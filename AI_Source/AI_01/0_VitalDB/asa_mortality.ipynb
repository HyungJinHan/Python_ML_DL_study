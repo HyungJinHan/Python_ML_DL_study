{
 "cells": [
  {
   "cell_type": "markdown",
   "metadata": {
    "colab_type": "text",
    "id": "view-in-github"
   },
   "source": [
    "<a href=\"https://colab.research.google.com/github/vitaldb/examples/blob/master/asa_mortality.ipynb\" target=\"_parent\"><img src=\"https://colab.research.google.com/assets/colab-badge.svg\" alt=\"Open In Colab\"/></a>"
   ]
  },
  {
   "cell_type": "markdown",
   "metadata": {},
   "source": [
    "# Comparison of mortality rates depending on ASA physical status class\n",
    "In this example, we will learn how to estimate and compare mortality rates depending on ASA physical status class with <code>VitalDB</code> dataset.<br>\n",
    "\n",
    "> Note that <b>all users who use Vital DB, an open biosignal dataset, must agree to the Data Use Agreement below. </b> If you do not agree, please close this window. Click here: [Data Use Agreement](https://vitaldb.net/dataset/?query=overview&documentId=13qqajnNZzkN7NZ9aXnaQ-47NWy7kx-a6gbrcEsi-gak&sectionId=h.vcpgs1yemdb5)"
   ]
  },
  {
   "cell_type": "markdown",
   "metadata": {},
   "source": [
    "## Preparation"
   ]
  },
  {
   "cell_type": "code",
   "execution_count": 13,
   "metadata": {
    "colab": {
     "base_uri": "https://localhost:8080/",
     "height": 916
    },
    "id": "bwuP-YwMcLgo",
    "outputId": "865d6a7b-dd53-486d-9526-886a157b263f"
   },
   "outputs": [
    {
     "name": "stdout",
     "output_type": "stream",
     "text": [
      "0.8922980588603632\n"
     ]
    },
    {
     "data": {
      "text/html": [
       "<div>\n",
       "<style scoped>\n",
       "    .dataframe tbody tr th:only-of-type {\n",
       "        vertical-align: middle;\n",
       "    }\n",
       "\n",
       "    .dataframe tbody tr th {\n",
       "        vertical-align: top;\n",
       "    }\n",
       "\n",
       "    .dataframe thead th {\n",
       "        text-align: right;\n",
       "    }\n",
       "</style>\n",
       "<table border=\"1\" class=\"dataframe\">\n",
       "  <thead>\n",
       "    <tr style=\"text-align: right;\">\n",
       "      <th></th>\n",
       "      <th>age</th>\n",
       "      <th>sex</th>\n",
       "      <th>bmi</th>\n",
       "    </tr>\n",
       "  </thead>\n",
       "  <tbody>\n",
       "    <tr>\n",
       "      <th>5376</th>\n",
       "      <td>77.0</td>\n",
       "      <td>M</td>\n",
       "      <td>22.0</td>\n",
       "    </tr>\n",
       "    <tr>\n",
       "      <th>879</th>\n",
       "      <td>54.0</td>\n",
       "      <td>F</td>\n",
       "      <td>23.9</td>\n",
       "    </tr>\n",
       "    <tr>\n",
       "      <th>4919</th>\n",
       "      <td>50.0</td>\n",
       "      <td>F</td>\n",
       "      <td>27.9</td>\n",
       "    </tr>\n",
       "    <tr>\n",
       "      <th>1869</th>\n",
       "      <td>70.0</td>\n",
       "      <td>F</td>\n",
       "      <td>27.0</td>\n",
       "    </tr>\n",
       "    <tr>\n",
       "      <th>969</th>\n",
       "      <td>61.0</td>\n",
       "      <td>F</td>\n",
       "      <td>19.6</td>\n",
       "    </tr>\n",
       "    <tr>\n",
       "      <th>6213</th>\n",
       "      <td>60.0</td>\n",
       "      <td>F</td>\n",
       "      <td>24.3</td>\n",
       "    </tr>\n",
       "    <tr>\n",
       "      <th>5074</th>\n",
       "      <td>25.0</td>\n",
       "      <td>F</td>\n",
       "      <td>23.8</td>\n",
       "    </tr>\n",
       "    <tr>\n",
       "      <th>3273</th>\n",
       "      <td>62.0</td>\n",
       "      <td>F</td>\n",
       "      <td>22.6</td>\n",
       "    </tr>\n",
       "    <tr>\n",
       "      <th>8</th>\n",
       "      <td>32.0</td>\n",
       "      <td>F</td>\n",
       "      <td>20.4</td>\n",
       "    </tr>\n",
       "    <tr>\n",
       "      <th>4502</th>\n",
       "      <td>50.0</td>\n",
       "      <td>F</td>\n",
       "      <td>21.3</td>\n",
       "    </tr>\n",
       "    <tr>\n",
       "      <th>34</th>\n",
       "      <td>58.0</td>\n",
       "      <td>F</td>\n",
       "      <td>20.9</td>\n",
       "    </tr>\n",
       "    <tr>\n",
       "      <th>5094</th>\n",
       "      <td>59.0</td>\n",
       "      <td>M</td>\n",
       "      <td>24.9</td>\n",
       "    </tr>\n",
       "    <tr>\n",
       "      <th>2341</th>\n",
       "      <td>39.0</td>\n",
       "      <td>F</td>\n",
       "      <td>21.5</td>\n",
       "    </tr>\n",
       "    <tr>\n",
       "      <th>3913</th>\n",
       "      <td>42.0</td>\n",
       "      <td>M</td>\n",
       "      <td>20.9</td>\n",
       "    </tr>\n",
       "    <tr>\n",
       "      <th>2461</th>\n",
       "      <td>61.0</td>\n",
       "      <td>M</td>\n",
       "      <td>20.1</td>\n",
       "    </tr>\n",
       "    <tr>\n",
       "      <th>464</th>\n",
       "      <td>42.0</td>\n",
       "      <td>M</td>\n",
       "      <td>20.3</td>\n",
       "    </tr>\n",
       "    <tr>\n",
       "      <th>6270</th>\n",
       "      <td>37.0</td>\n",
       "      <td>M</td>\n",
       "      <td>18.3</td>\n",
       "    </tr>\n",
       "    <tr>\n",
       "      <th>5351</th>\n",
       "      <td>77.0</td>\n",
       "      <td>F</td>\n",
       "      <td>21.6</td>\n",
       "    </tr>\n",
       "    <tr>\n",
       "      <th>6034</th>\n",
       "      <td>54.0</td>\n",
       "      <td>F</td>\n",
       "      <td>22.9</td>\n",
       "    </tr>\n",
       "    <tr>\n",
       "      <th>4293</th>\n",
       "      <td>66.0</td>\n",
       "      <td>F</td>\n",
       "      <td>26.6</td>\n",
       "    </tr>\n",
       "    <tr>\n",
       "      <th>2963</th>\n",
       "      <td>29.0</td>\n",
       "      <td>F</td>\n",
       "      <td>22.6</td>\n",
       "    </tr>\n",
       "    <tr>\n",
       "      <th>2679</th>\n",
       "      <td>78.0</td>\n",
       "      <td>M</td>\n",
       "      <td>23.2</td>\n",
       "    </tr>\n",
       "    <tr>\n",
       "      <th>5567</th>\n",
       "      <td>79.0</td>\n",
       "      <td>F</td>\n",
       "      <td>28.0</td>\n",
       "    </tr>\n",
       "    <tr>\n",
       "      <th>2981</th>\n",
       "      <td>70.0</td>\n",
       "      <td>F</td>\n",
       "      <td>22.0</td>\n",
       "    </tr>\n",
       "    <tr>\n",
       "      <th>3</th>\n",
       "      <td>74.0</td>\n",
       "      <td>M</td>\n",
       "      <td>20.5</td>\n",
       "    </tr>\n",
       "    <tr>\n",
       "      <th>1768</th>\n",
       "      <td>57.0</td>\n",
       "      <td>F</td>\n",
       "      <td>22.2</td>\n",
       "    </tr>\n",
       "    <tr>\n",
       "      <th>321</th>\n",
       "      <td>56.0</td>\n",
       "      <td>F</td>\n",
       "      <td>19.4</td>\n",
       "    </tr>\n",
       "    <tr>\n",
       "      <th>1230</th>\n",
       "      <td>76.0</td>\n",
       "      <td>M</td>\n",
       "      <td>24.9</td>\n",
       "    </tr>\n",
       "    <tr>\n",
       "      <th>345</th>\n",
       "      <td>60.0</td>\n",
       "      <td>F</td>\n",
       "      <td>23.3</td>\n",
       "    </tr>\n",
       "    <tr>\n",
       "      <th>1492</th>\n",
       "      <td>67.0</td>\n",
       "      <td>M</td>\n",
       "      <td>18.6</td>\n",
       "    </tr>\n",
       "  </tbody>\n",
       "</table>\n",
       "</div>"
      ],
      "text/plain": [
       "       age sex   bmi\n",
       "5376  77.0   M  22.0\n",
       "879   54.0   F  23.9\n",
       "4919  50.0   F  27.9\n",
       "1869  70.0   F  27.0\n",
       "969   61.0   F  19.6\n",
       "6213  60.0   F  24.3\n",
       "5074  25.0   F  23.8\n",
       "3273  62.0   F  22.6\n",
       "8     32.0   F  20.4\n",
       "4502  50.0   F  21.3\n",
       "34    58.0   F  20.9\n",
       "5094  59.0   M  24.9\n",
       "2341  39.0   F  21.5\n",
       "3913  42.0   M  20.9\n",
       "2461  61.0   M  20.1\n",
       "464   42.0   M  20.3\n",
       "6270  37.0   M  18.3\n",
       "5351  77.0   F  21.6\n",
       "6034  54.0   F  22.9\n",
       "4293  66.0   F  26.6\n",
       "2963  29.0   F  22.6\n",
       "2679  78.0   M  23.2\n",
       "5567  79.0   F  28.0\n",
       "2981  70.0   F  22.0\n",
       "3     74.0   M  20.5\n",
       "1768  57.0   F  22.2\n",
       "321   56.0   F  19.4\n",
       "1230  76.0   M  24.9\n",
       "345   60.0   F  23.3\n",
       "1492  67.0   M  18.6"
      ]
     },
     "execution_count": 13,
     "metadata": {},
     "output_type": "execute_result"
    }
   ],
   "source": [
    "import pandas as pd\n",
    "\n",
    "# Load clinical information data\n",
    "df_cases = pd.read_csv(\"https://api.vitaldb.net/cases\")\n",
    "df_cases.to_csv('vital_test.csv')\n",
    "\n",
    "# Print the average of death in hospital\n",
    "print(df_cases.death_inhosp.mean() * 100)\n",
    "\n",
    "df_cases[['age', 'sex', 'bmi']].sample(30)"
   ]
  },
  {
   "cell_type": "markdown",
   "metadata": {},
   "source": [
    "## Data Visualization"
   ]
  },
  {
   "cell_type": "code",
   "execution_count": 2,
   "metadata": {
    "colab": {
     "base_uri": "https://localhost:8080/",
     "height": 319
    },
    "id": "JcPTJzW6cgM8",
    "outputId": "3f820f95-fb5b-4c57-8b91-c38b58bc5c4d"
   },
   "outputs": [
    {
     "name": "stdout",
     "output_type": "stream",
     "text": [
      "[0.5451241671714113, 0.2991325157044571, 1.3671875, 18.181818181818183]\n",
      "[0.0, 1.9662921348314606, 5.2356020942408374, 27.027027027027028]\n"
     ]
    },
    {
     "data": {
      "text/plain": [
       "<module 'matplotlib.pyplot' from 'C:\\\\Users\\\\admin\\\\Anaconda3\\\\lib\\\\site-packages\\\\matplotlib\\\\pyplot.py'>"
      ]
     },
     "execution_count": 2,
     "metadata": {},
     "output_type": "execute_result"
    },
    {
     "data": {
      "image/png": "[encoded data removed]",
      "text/plain": [
       "<Figure size 432x288 with 1 Axes>"
      ]
     },
     "metadata": {
      "needs_background": "light"
     },
     "output_type": "display_data"
    }
   ],
   "source": [
    "##########################################################\n",
    "# column name'asa' stands for ASA class\n",
    "# column name'emop' stands for emergency surgery\n",
    "# column name 'death_inhosp' stands for death in hospital\n",
    "##########################################################\n",
    "\n",
    "# Estimate patients' mortality rate depending on ASA class in emergency surgery\n",
    "el_y = [df_cases[(df_cases['asa'] == asa) & ~df_cases['emop']]['death_inhosp'].mean() * 100 for asa in range(1,5)]\n",
    "print(el_y)\n",
    "\n",
    "# Estimate patients' mortality rate depending on ASA class in general surgery\n",
    "em_y = [df_cases[(df_cases['asa'] == asa) & df_cases['emop']]['death_inhosp'].mean() * 100 for asa in range(1,5)]\n",
    "print(em_y)\n",
    "\n",
    "# Draw a bar graph\n",
    "import numpy as np\n",
    "import matplotlib.pyplot as plt\n",
    "fig, ax = plt.subplots()\n",
    "w = 0.35\n",
    "x = np.arange(1,5)\n",
    "ax.bar(x - w/2, el_y, w, label='Elective')\n",
    "ax.bar(x + w/2, em_y, w, label='Emergency')\n",
    "ax.set_ylabel('Mortality (%)')\n",
    "ax.set_xticks(x)\n",
    "ax.legend()\n",
    "plt"
   ]
  }
 ],
 "metadata": {
  "colab": {
   "authorship_tag": "ABX9TyM+0SIx/0FGU/qJLw3YZX8l",
   "include_colab_link": true,
   "name": "asa_mortality.ipynb",
   "provenance": []
  },
  "kernelspec": {
   "display_name": "Python 3 (ipykernel)",
   "language": "python",
   "name": "python3"
  },
  "language_info": {
   "codemirror_mode": {
    "name": "ipython",
    "version": 3
   },
   "file_extension": ".py",
   "mimetype": "text/x-python",
   "name": "python",
   "nbconvert_exporter": "python",
   "pygments_lexer": "ipython3",
   "version": "3.7.9"
  }
 },
 "nbformat": 4,
 "nbformat_minor": 1
}
