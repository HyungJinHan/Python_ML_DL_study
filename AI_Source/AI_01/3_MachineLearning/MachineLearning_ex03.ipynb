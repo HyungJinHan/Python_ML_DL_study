{
 "cells": [
  {
   "cell_type": "markdown",
   "id": "2d6634b6",
   "metadata": {},
   "source": [
    "# 단순 선형 회귀 예제 (입력 변수 1개)"
   ]
  },
  {
   "cell_type": "code",
   "execution_count": 72,
   "id": "e1e96e7c",
   "metadata": {},
   "outputs": [
    {
     "data": {
      "text/plain": [
       "(array([[0.53996599]]), array([0.59369211]))"
      ]
     },
     "execution_count": 72,
     "metadata": {},
     "output_type": "execute_result"
    }
   ],
   "source": [
    "import numpy as np\n",
    "\n",
    "x_data = np.array([1, 2, 3, 4, 5]).reshape(5,1) # 입력데이터 초기화\n",
    "t_data = np.array([2, 3, 4, 5, 6]).reshape(5,1) # 정답데이터 초기화\n",
    "\n",
    "W = np.random.rand(1,1) # 가중치 W 초기화\n",
    "b = np.random.rand(1) # 바이어스 b 초기화\n",
    "\n",
    "W, b\n",
    "# (array([[0.05967214]]), array([0.11268206]))"
   ]
  },
  {
   "cell_type": "code",
   "execution_count": 73,
   "id": "fad43076",
   "metadata": {},
   "outputs": [],
   "source": [
    "# 손실 함수\n",
    "def loss_func(x, t):\n",
    "    y = np.dot(x,W) + b\n",
    "    return (np.sum((t - y)**2 )) / (len(x))"
   ]
  },
  {
   "cell_type": "code",
   "execution_count": 74,
   "id": "9dd14add",
   "metadata": {},
   "outputs": [],
   "source": [
    "# 수치 미분 함수\n",
    "def numerical_derivative(f, x):\n",
    "    delta_x = 1e-4 # 0.0001\n",
    "    grad = np.zeros_like(x)\n",
    "    it = np.nditer(x, flags=['multi_index'], op_flags=['readwrite'])\n",
    "    \n",
    "    while not it.finished:\n",
    "        idx = it.multi_index \n",
    "        tmp_val = x[idx]\n",
    "        x[idx] = float(tmp_val) + delta_x\n",
    "        fx1 = f(x) # f(x + delta_x)\n",
    "        \n",
    "        x[idx] = float(tmp_val) - delta_x\n",
    "        fx2 = f(x)\n",
    "        \n",
    "        grad[idx] = (fx1 - fx2) / (2 * delta_x)\n",
    "        \n",
    "        x[idx] = tmp_val\n",
    "        it.iternext()\n",
    "    return grad"
   ]
  },
  {
   "cell_type": "code",
   "execution_count": 75,
   "id": "72103cfc",
   "metadata": {},
   "outputs": [
    {
     "name": "stdout",
     "output_type": "stream",
     "text": [
      "Initial loss value =  3.6145229357319204 Initial W =  [[0.53996599]] \n",
      " , b =  [0.59369211]\n",
      "step =  0 loss value =  2.132139976708165 W = [[0.66555195]] b = [0.62188515]\n",
      "step =  300 loss value =  0.001924234835808365 W = [[1.02848563]] b = [0.89718302]\n",
      "step =  600 loss value =  0.0002442889163523659 W = [[1.01014959]] b = [0.96336572]\n",
      "step =  900 loss value =  3.101340519466074e-05 W = [[1.00361636]] b = [0.98694699]\n",
      "step =  1200 loss value =  3.937269509115222e-06 W = [[1.00128853]] b = [0.99534914]\n",
      "step =  1500 loss value =  4.998513091388735e-07 W = [[1.00045911]] b = [0.99834287]\n",
      "step =  1800 loss value =  6.345802101422349e-08 W = [[1.00016358]] b = [0.99940956]\n",
      "step =  2100 loss value =  8.056236639596324e-09 W = [[1.00005829]] b = [0.99978962]\n",
      "step =  2400 loss value =  1.0227698209751372e-09 W = [[1.00002077]] b = [0.99992504]\n",
      "step =  2700 loss value =  1.2984451096616812e-10 W = [[1.0000074]] b = [0.99997329]\n",
      "step =  3000 loss value =  1.6484253526625665e-11 W = [[1.00000264]] b = [0.99999048]\n",
      "step =  3300 loss value =  2.0927385558627858e-12 W = [[1.00000094]] b = [0.99999661]\n",
      "step =  3600 loss value =  2.6568110339068453e-13 W = [[1.00000033]] b = [0.99999879]\n",
      "step =  3900 loss value =  3.3729224545283875e-14 W = [[1.00000012]] b = [0.99999957]\n",
      "step =  4200 loss value =  4.282053095189311e-15 W = [[1.00000004]] b = [0.99999985]\n",
      "step =  4500 loss value =  5.436228911485133e-16 W = [[1.00000002]] b = [0.99999995]\n",
      "step =  4800 loss value =  6.901499328536815e-17 W = [[1.00000001]] b = [0.99999998]\n",
      "step =  5100 loss value =  8.761715066207691e-18 W = [[1.]] b = [0.99999999]\n",
      "step =  5400 loss value =  1.1123331604217246e-18 W = [[1.]] b = [1.]\n",
      "step =  5700 loss value =  1.412150223429631e-19 W = [[1.]] b = [1.]\n",
      "step =  6000 loss value =  1.7927855582017896e-20 W = [[1.]] b = [1.]\n",
      "step =  6300 loss value =  2.275997948946303e-21 W = [[1.]] b = [1.]\n",
      "step =  6600 loss value =  2.889464841369175e-22 W = [[1.]] b = [1.]\n",
      "step =  6900 loss value =  3.6685104784888976e-23 W = [[1.]] b = [1.]\n",
      "step =  7200 loss value =  4.6582396592064506e-24 W = [[1.]] b = [1.]\n",
      "step =  7500 loss value =  5.92291322123637e-25 W = [[1.]] b = [1.]\n",
      "step =  7800 loss value =  7.550097990942335e-26 W = [[1.]] b = [1.]\n",
      "step =  8100 loss value =  9.714082490698116e-27 W = [[1.]] b = [1.]\n",
      "step =  8400 loss value =  1.2017901460589505e-27 W = [[1.]] b = [1.]\n",
      "step =  8700 loss value =  2.045121896785473e-28 W = [[1.]] b = [1.]\n",
      "step =  9000 loss value =  9.517606821491508e-29 W = [[1.]] b = [1.]\n"
     ]
    }
   ],
   "source": [
    "learning_rate = 1e-2 # 학습률 a\n",
    "\n",
    "f = lambda x: loss_func(x_data, t_data)\n",
    "\n",
    "print(\"Initial loss value = \",\n",
    "      loss_func(x_data, t_data),\n",
    "      \"Initial W = \",\n",
    "      W,\n",
    "      \"\\n\",\n",
    "      \", b = \",\n",
    "      b )\n",
    "\n",
    "for step in range(9001):\n",
    "    W -= learning_rate * numerical_derivative(f, W) # 손실 함수, 가중치\n",
    "    b -= learning_rate * numerical_derivative(f, b) # 손실 함수, 바이어스\n",
    "    if (step % 300 == 0): # 추가 부분\n",
    "        print(\"step = \",\n",
    "              step,\n",
    "              \"loss value = \",\n",
    "              loss_func(x_data, t_data),\n",
    "              \"W =\",\n",
    "              W,\n",
    "              \"b =\",\n",
    "              b)"
   ]
  },
  {
   "cell_type": "code",
   "execution_count": 76,
   "id": "6da39eac",
   "metadata": {},
   "outputs": [
    {
     "data": {
      "text/plain": [
       "array([44.])"
      ]
     },
     "execution_count": 76,
     "metadata": {},
     "output_type": "execute_result"
    }
   ],
   "source": [
    "def predict(x): # 예측 함수\n",
    "    y = np.dot(x,W) + b\n",
    "    return y\n",
    "\n",
    "predict(np.array([43])) # 예축 테스트\n",
    "# array([44.])"
   ]
  },
  {
   "cell_type": "markdown",
   "id": "3186d25b",
   "metadata": {},
   "source": [
    "# `np.nditer` 예제"
   ]
  },
  {
   "cell_type": "code",
   "execution_count": 50,
   "id": "e9cf066a",
   "metadata": {},
   "outputs": [
    {
     "name": "stdout",
     "output_type": "stream",
     "text": [
      "[[1 2 3 4]\n",
      " [5 6 7 8]] \n",
      "\n",
      "A.shape == (2, 4) \n",
      "\n",
      "(0, 0) current value => 1\n",
      "(0, 1) current value => 2\n",
      "(0, 2) current value => 3\n",
      "(0, 3) current value => 4\n",
      "(1, 0) current value => 5\n",
      "(1, 1) current value => 6\n",
      "(1, 2) current value => 7\n",
      "(1, 3) current value => 8\n"
     ]
    }
   ],
   "source": [
    "import numpy as np\n",
    "\n",
    "A = np.array([[1, 2, 3, 4], [5, 6, 7, 8]])\n",
    "\n",
    "print(A, '\\n')\n",
    "print('A.shape ==', A.shape, '\\n')\n",
    "\n",
    "it = np.nditer(A, flags=['multi_index'], op_flags=['readwrite'])\n",
    "\n",
    "while not it.finished:\n",
    "    idx = it.multi_index\n",
    "    print(idx, 'current value =>', A[idx])\n",
    "    it.iternext()"
   ]
  },
  {
   "cell_type": "markdown",
   "id": "4addff1d",
   "metadata": {},
   "source": [
    "# 다중 선형 회귀 예제 (입력 변수 1개)"
   ]
  },
  {
   "cell_type": "code",
   "execution_count": 81,
   "id": "59d3842c",
   "metadata": {},
   "outputs": [
    {
     "name": "stdout",
     "output_type": "stream",
     "text": [
      "x_data.ndim =  2 , x_data.shape =  (9, 3)\n",
      "t_data.ndim =  2 , t_data.shape =  (9, 1)\n"
     ]
    },
    {
     "data": {
      "text/plain": [
       "array([[ 73.,  80.,  75., 152.],\n",
       "       [ 93.,  88.,  93., 185.],\n",
       "       [ 89.,  91.,  90., 180.],\n",
       "       [ 96.,  98., 100., 196.],\n",
       "       [ 73.,  66.,  70., 142.],\n",
       "       [ 53.,  46.,  55., 101.],\n",
       "       [ 69.,  74.,  77., 149.],\n",
       "       [ 47.,  56.,  60., 115.],\n",
       "       [ 87.,  79.,  90., 175.]], dtype=float32)"
      ]
     },
     "execution_count": 81,
     "metadata": {},
     "output_type": "execute_result"
    }
   ],
   "source": [
    "import numpy as np\n",
    "\n",
    "loaded_data = np.loadtxt('./data_01.csv', delimiter=',', dtype=np.float32)\n",
    "\n",
    "x_data = loaded_data[:, 0:-1]\n",
    "t_data = loaded_data[:, [-1]]\n",
    "\n",
    "# 데이터 차원 및 shape 확인\n",
    "print(\"x_data.ndim = \", x_data.ndim, \", x_data.shape = \", x_data.shape)\n",
    "print(\"t_data.ndim = \", t_data.ndim, \", t_data.shape = \", t_data.shape)\n",
    "loaded_data"
   ]
  },
  {
   "cell_type": "code",
   "execution_count": 82,
   "id": "8871b88c",
   "metadata": {},
   "outputs": [
    {
     "name": "stdout",
     "output_type": "stream",
     "text": [
      "W =  [[0.34134788]\n",
      " [0.94490112]\n",
      " [0.34002804]] , W.shape =  (3, 1) , b =  [0.94748035] , b.shape =  (1,)\n"
     ]
    }
   ],
   "source": [
    "W = np.random.rand(3,1) # 가중치 W 초기화\n",
    "b = np.random.rand(1) # 바이어스 b 초기화\n",
    "\n",
    "print(\"W = \", W, \", W.shape = \", W.shape, \", b = \", b, \", b.shape = \", b.shape)\n",
    "# 가중치 W, 바이어스 b 업데이트 및 학습과정 결과"
   ]
  },
  {
   "cell_type": "code",
   "execution_count": 83,
   "id": "75a1208b",
   "metadata": {},
   "outputs": [
    {
     "name": "stdout",
     "output_type": "stream",
     "text": [
      "Initial loss value =  952.5963060404089\n",
      "step =  0 loss value =  388.76740963291934\n",
      "step =  3000 loss value =  5.491084833782271\n",
      "step =  6000 loss value =  4.278741414052048\n",
      "step =  9000 loss value =  3.8898519968808034\n",
      "step =  12000 loss value =  3.752120123965696\n",
      "step =  15000 loss value =  3.701765936751281\n",
      "step =  18000 loss value =  3.683078244996137\n",
      "step =  21000 loss value =  3.6759979225959745\n",
      "step =  24000 loss value =  3.67318564007734\n",
      "step =  27000 loss value =  3.671944394216574\n",
      "step =  30000 loss value =  3.671281965789819\n"
     ]
    }
   ],
   "source": [
    "learning_rate = 1e-5\n",
    "\n",
    "f = lambda x : loss_func(x_data,t_data)\n",
    "\n",
    "print(\"Initial loss value = \", loss_func(x_data, t_data))\n",
    "\n",
    "for step in range(30001):\n",
    "    W -= learning_rate * numerical_derivative(f, W)\n",
    "    b -= learning_rate * numerical_derivative(f, b)\n",
    "    if (step % 3000 == 0):\n",
    "        print(\"step = \", step, \"loss value = \", loss_func(x_data, t_data))"
   ]
  },
  {
   "cell_type": "code",
   "execution_count": 84,
   "id": "5d5cde6b",
   "metadata": {},
   "outputs": [
    {
     "data": {
      "text/plain": [
       "array([179.3569961])"
      ]
     },
     "execution_count": 84,
     "metadata": {},
     "output_type": "execute_result"
    }
   ],
   "source": [
    "test_data = np.array([100, 98, 81])\n",
    "predict(test_data)"
   ]
  },
  {
   "cell_type": "code",
   "execution_count": null,
   "id": "a120a79b",
   "metadata": {},
   "outputs": [],
   "source": []
  }
 ],
 "metadata": {
  "kernelspec": {
   "display_name": "Python 3.7.9 ('venv': venv)",
   "language": "python",
   "name": "python3"
  },
  "language_info": {
   "codemirror_mode": {
    "name": "ipython",
    "version": 3
   },
   "file_extension": ".py",
   "mimetype": "text/x-python",
   "name": "python",
   "nbconvert_exporter": "python",
   "pygments_lexer": "ipython3",
   "version": "3.7.9"
  },
  "vscode": {
   "interpreter": {
    "hash": "f1d7460674a73418ab454bd6edfaf2f1a894e6aad421ddec5a5a37cc572abb49"
   }
  }
 },
 "nbformat": 4,
 "nbformat_minor": 5
}
