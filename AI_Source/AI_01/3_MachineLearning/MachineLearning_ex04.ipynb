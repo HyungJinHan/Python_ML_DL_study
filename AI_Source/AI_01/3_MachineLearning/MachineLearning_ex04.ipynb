{
 "cells": [
  {
   "cell_type": "code",
   "execution_count": 63,
   "id": "551e0df5",
   "metadata": {},
   "outputs": [],
   "source": [
    "from sklearn.datasets import load_boston\n",
    "from sklearn.model_selection import train_test_split\n",
    "import pandas as pd\n",
    "import numpy as np\n",
    "import warnings\n",
    "warnings.filterwarnings(action='ignore') # 경고 무시\n",
    "\n",
    "data = load_boston()\n",
    "X_train, X_test, y_train, y_test = train_test_split(data.data,\n",
    "                                                    data.target,\n",
    "                                                    random_state=42)"
   ]
  },
  {
   "cell_type": "code",
   "execution_count": 62,
   "id": "741f0363",
   "metadata": {
    "scrolled": false
   },
   "outputs": [
    {
     "name": "stdout",
     "output_type": "stream",
     "text": [
      "[[0.00000000e+00 1.80000000e-01 6.78152493e-02 0.00000000e+00\n",
      "  3.14814815e-01 5.77505269e-01 6.41606591e-01 2.69203139e-01\n",
      "  0.00000000e+00 2.08015267e-01 2.87234043e-01 1.00000000e+00\n",
      "  8.96799117e-02]\n",
      " [2.35922539e-04 0.00000000e+00 2.42302053e-01 0.00000000e+00\n",
      "  1.72839506e-01 5.47997701e-01 7.82698249e-01 3.48961980e-01\n",
      "  4.34782609e-02 1.04961832e-01 5.53191489e-01 1.00000000e+00\n",
      "  2.04470199e-01]\n",
      " [2.35697744e-04 0.00000000e+00 2.42302053e-01 0.00000000e+00\n",
      "  1.72839506e-01 6.94385898e-01 5.99382080e-01 3.48961980e-01\n",
      "  4.34782609e-02 1.04961832e-01 5.53191489e-01 9.89737254e-01\n",
      "  6.34657837e-02]\n",
      " [2.92795719e-04 0.00000000e+00 6.30498534e-02 0.00000000e+00\n",
      "  1.50205761e-01 6.58555279e-01 4.41812564e-01 4.48544590e-01\n",
      "  8.69565217e-02 6.67938931e-02 6.48936170e-01 9.94276060e-01\n",
      "  3.33885210e-02]\n",
      " [7.05070075e-04 0.00000000e+00 6.30498534e-02 0.00000000e+00\n",
      "  1.50205761e-01 6.87104809e-01 5.28321318e-01 4.48544590e-01\n",
      "  8.69565217e-02 6.67938931e-02 6.48936170e-01 1.00000000e+00\n",
      "  9.93377483e-02]]\n"
     ]
    }
   ],
   "source": [
    "from sklearn.preprocessing import minmax_scale\n",
    "\n",
    "boston_df = pd.DataFrame(data=data.data, columns=data.feature_names)\n",
    "\n",
    "boston_df\n",
    "\n",
    "x = boston_df.iloc[:, :]\n",
    "x\n",
    "\n",
    "boston_minmax_scaled = minmax_scale(x)\n",
    "print(boston_minmax_scaled[:5, :])"
   ]
  },
  {
   "cell_type": "code",
   "execution_count": 82,
   "id": "429642de",
   "metadata": {},
   "outputs": [
    {
     "data": {
      "text/plain": [
       "array([[9.21351411e-04, 0.00000000e+00, 4.71164719e-02, ...,\n",
       "        5.53191489e-01, 9.92990065e-01, 8.52649007e-02],\n",
       "       [3.96320484e-02, 0.00000000e+00, 6.92423671e-01, ...,\n",
       "        2.23404255e-01, 2.21115538e-01, 3.66721854e-01],\n",
       "       [3.00335607e-04, 2.00000000e-01, 7.99095364e-02, ...,\n",
       "        2.44680851e-01, 9.75818246e-01, 5.60154525e-02],\n",
       "       ...,\n",
       "       [6.68786251e-05, 8.00000000e-01, 3.01545420e-02, ...,\n",
       "        4.68085106e-01, 9.84971506e-01, 1.17549669e-01],\n",
       "       [1.25342233e-01, 0.00000000e+00, 6.36637769e-01, ...,\n",
       "        8.08510638e-01, 2.76186394e-01, 5.94370861e-01],\n",
       "       [2.46945108e-03, 0.00000000e+00, 2.77044855e-01, ...,\n",
       "        8.82978723e-01, 1.77719502e-01, 2.45584989e-01]])"
      ]
     },
     "execution_count": 82,
     "metadata": {},
     "output_type": "execute_result"
    }
   ],
   "source": [
    "from sklearn.preprocessing import MinMaxScaler\n",
    "\n",
    "minmax_scaler = MinMaxScaler()\n",
    "minmax_scaler.fit(X_train)\n",
    "\n",
    "X_train = minmax_scaler.transform(X_train)\n",
    "X_train"
   ]
  },
  {
   "cell_type": "code",
   "execution_count": 93,
   "id": "6f256755",
   "metadata": {},
   "outputs": [
    {
     "data": {
      "text/plain": [
       "0.748087259862344"
      ]
     },
     "execution_count": 93,
     "metadata": {},
     "output_type": "execute_result"
    }
   ],
   "source": [
    "from sklearn.preprocessing import StandardScaler\n",
    "\n",
    "scaler = StandardScaler()\n",
    "scaler.fit(X_train)\n",
    "\n",
    "X_train = scaler.transform(X_train)\n",
    "# X_test_scaled = scaler.transform(X_test)\n",
    "\n",
    "from sklearn.linear_model import LinearRegression\n",
    "\n",
    "model = LinearRegression()\n",
    "model.fit(X_train, y_train)\n",
    "\n",
    "score = model.score(X_train, y_train)\n",
    "score"
   ]
  },
  {
   "cell_type": "code",
   "execution_count": 80,
   "id": "c2adc123",
   "metadata": {},
   "outputs": [
    {
     "data": {
      "text/plain": [
       "-35351.853881879004"
      ]
     },
     "execution_count": 80,
     "metadata": {},
     "output_type": "execute_result"
    }
   ],
   "source": [
    "from sklearn.linear_model import LinearRegression\n",
    "\n",
    "model = LinearRegression()\n",
    "model.fit(X_train, y_train)\n",
    "# 학습\n",
    "\n",
    "score = model.score(X_test, y_test)\n",
    "# 정확도 체크\n",
    "score"
   ]
  },
  {
   "cell_type": "code",
   "execution_count": 81,
   "id": "f26062c2",
   "metadata": {},
   "outputs": [
    {
     "name": "stdout",
     "output_type": "stream",
     "text": [
      "계수 : [-11.41649808   2.95517751   1.29623175   2.77350326  -7.89207097\n",
      "  21.48116718  -0.89798872 -15.40519074   5.92850858  -5.21744086\n",
      "  -8.67735568   5.22907382 -18.75925615]\n",
      "\n",
      "절편 : 24.782854859133288\n"
     ]
    }
   ],
   "source": [
    "cofficient = model.coef_\n",
    "intercept = model.intercept_\n",
    "print(\"계수 :\", cofficient)\n",
    "print()\n",
    "print(\"절편 :\", intercept)"
   ]
  },
  {
   "cell_type": "code",
   "execution_count": 15,
   "id": "d2c2deef",
   "metadata": {},
   "outputs": [
    {
     "name": "stdout",
     "output_type": "stream",
     "text": [
      ".. _boston_dataset:\n",
      "\n",
      "Boston house prices dataset\n",
      "---------------------------\n",
      "\n",
      "**Data Set Characteristics:**  \n",
      "\n",
      "    :Number of Instances: 506 \n",
      "\n",
      "    :Number of Attributes: 13 numeric/categorical predictive. Median Value (attribute 14) is usually the target.\n",
      "\n",
      "    :Attribute Information (in order):\n",
      "        - CRIM     per capita crime rate by town\n",
      "        - ZN       proportion of residential land zoned for lots over 25,000 sq.ft.\n",
      "        - INDUS    proportion of non-retail business acres per town\n",
      "        - CHAS     Charles River dummy variable (= 1 if tract bounds river; 0 otherwise)\n",
      "        - NOX      nitric oxides concentration (parts per 10 million)\n",
      "        - RM       average number of rooms per dwelling\n",
      "        - AGE      proportion of owner-occupied units built prior to 1940\n",
      "        - DIS      weighted distances to five Boston employment centres\n",
      "        - RAD      index of accessibility to radial highways\n",
      "        - TAX      full-value property-tax rate per $10,000\n",
      "        - PTRATIO  pupil-teacher ratio by town\n",
      "        - B        1000(Bk - 0.63)^2 where Bk is the proportion of black people by town\n",
      "        - LSTAT    % lower status of the population\n",
      "        - MEDV     Median value of owner-occupied homes in $1000's\n",
      "\n",
      "    :Missing Attribute Values: None\n",
      "\n",
      "    :Creator: Harrison, D. and Rubinfeld, D.L.\n",
      "\n",
      "This is a copy of UCI ML housing dataset.\n",
      "https://archive.ics.uci.edu/ml/machine-learning-databases/housing/\n",
      "\n",
      "\n",
      "This dataset was taken from the StatLib library which is maintained at Carnegie Mellon University.\n",
      "\n",
      "The Boston house-price data of Harrison, D. and Rubinfeld, D.L. 'Hedonic\n",
      "prices and the demand for clean air', J. Environ. Economics & Management,\n",
      "vol.5, 81-102, 1978.   Used in Belsley, Kuh & Welsch, 'Regression diagnostics\n",
      "...', Wiley, 1980.   N.B. Various transformations are used in the table on\n",
      "pages 244-261 of the latter.\n",
      "\n",
      "The Boston house-price data has been used in many machine learning papers that address regression\n",
      "problems.   \n",
      "     \n",
      ".. topic:: References\n",
      "\n",
      "   - Belsley, Kuh & Welsch, 'Regression diagnostics: Identifying Influential Data and Sources of Collinearity', Wiley, 1980. 244-261.\n",
      "   - Quinlan,R. (1993). Combining Instance-Based and Model-Based Learning. In Proceedings on the Tenth International Conference of Machine Learning, 236-243, University of Massachusetts, Amherst. Morgan Kaufmann.\n",
      "\n"
     ]
    }
   ],
   "source": [
    "print(data.DESCR)"
   ]
  },
  {
   "cell_type": "code",
   "execution_count": 10,
   "id": "2737714b",
   "metadata": {},
   "outputs": [
    {
     "data": {
      "text/plain": [
       "LinearRegression()"
      ]
     },
     "execution_count": 10,
     "metadata": {},
     "output_type": "execute_result"
    }
   ],
   "source": [
    "from sklearn.linear_model import LinearRegression\n",
    "\n",
    "model = LinearRegression()\n",
    "model.fit(X_train, y_train)"
   ]
  },
  {
   "cell_type": "code",
   "execution_count": 11,
   "id": "571454af",
   "metadata": {},
   "outputs": [
    {
     "name": "stdout",
     "output_type": "stream",
     "text": [
      "정확도 : 0.6844267283527141\n"
     ]
    }
   ],
   "source": [
    "score = model.score(X_test, y_test)\n",
    "print(\"정확도 :\", score)"
   ]
  },
  {
   "cell_type": "code",
   "execution_count": 22,
   "id": "bc423304",
   "metadata": {},
   "outputs": [
    {
     "name": "stdout",
     "output_type": "stream",
     "text": [
      "계수 : [-1.28322638e-01  2.95517751e-02  4.88590934e-02  2.77350326e+00\n",
      " -1.62388292e+01  4.36875476e+00 -9.24808158e-03 -1.40086668e+00\n",
      "  2.57761243e-01 -9.95694820e-03 -9.23122944e-01  1.31854199e-02\n",
      " -5.17639519e-01]\n",
      "\n",
      "절편 : 29.83642016383914\n"
     ]
    }
   ],
   "source": [
    "cofficient = model.coef_\n",
    "intercept = model.intercept_\n",
    "print(\"계수 :\", cofficient)\n",
    "print()\n",
    "print(\"절편 :\", intercept)"
   ]
  }
 ],
 "metadata": {
  "kernelspec": {
   "display_name": "Python 3.7.9 ('venv': venv)",
   "language": "python",
   "name": "python3"
  },
  "language_info": {
   "codemirror_mode": {
    "name": "ipython",
    "version": 3
   },
   "file_extension": ".py",
   "mimetype": "text/x-python",
   "name": "python",
   "nbconvert_exporter": "python",
   "pygments_lexer": "ipython3",
   "version": "3.7.9"
  },
  "vscode": {
   "interpreter": {
    "hash": "f1d7460674a73418ab454bd6edfaf2f1a894e6aad421ddec5a5a37cc572abb49"
   }
  }
 },
 "nbformat": 4,
 "nbformat_minor": 5
}
