{
 "cells": [
  {
   "cell_type": "code",
   "execution_count": null,
   "metadata": {},
   "outputs": [],
   "source": [
    "import tensorflow as tf\n",
    "import numpy as np\n",
    "\n",
    "tf.__version__\n",
    "\n",
    "a = tf.constant(10)\n",
    "b = tf.constant(20)\n",
    "c = a + b\n",
    "d = (a + b).numpy()# numpy 값을 반환\n",
    "\n",
    "print(type(c))\n",
    "print(c, '\\n')\n",
    "\n",
    "print(type(d))\n",
    "print(d, '\\n')\n",
    "\n",
    "d_numpy_to_tensor = tf.convert_to_tensor(d)\n",
    "\n",
    "print(type(d_numpy_to_tensor))\n",
    "print(d_numpy_to_tensor)"
   ]
  },
  {
   "cell_type": "code",
   "execution_count": null,
   "metadata": {},
   "outputs": [],
   "source": [
    "# 라이브러리 임포트 및 데이터 정의\n",
    "import tensorflow as tf\n",
    "from tensorflow.keras.models import Sequential\n",
    "from tensorflow.keras.layers import Flatten, Dense\n",
    "from tensorflow.keras.optimizers import SGD\n",
    "import numpy as np\n",
    "\n",
    "x_data = np.array([1, 2, 3, 4, 5, 6])\n",
    "t_data = np.array([3, 4, 5, 6, 7, 8])\n",
    "\n",
    "# 모델 구축\n",
    "model = Sequential() # 모델\n",
    "\n",
    "model.add(Flatten(input_shape=(1,))) # 입력 층 (1차원 입력)\n",
    "model.add(Dense(1, activation='linear')) # 출력 층\n",
    "# model.add(Dense(1, input_shape=(1,), activation='linear')) # 입력 층 + 출력 층\n",
    "\n",
    "# 모델 컴파일 및 summary\n",
    "# 확률적 경사 하강법인 SGD를 옵티마이저로 설정\n",
    "model.compile(optimizer=SGD(learning_rate=1e-2), loss='mse')\n",
    "# mse : mean square error (선형 회귀 모델에서 사용)\n",
    "\n",
    "model.summary()\n",
    "\n",
    "# 모델 학습\n",
    "hist = model.fit(x_data, t_data, epochs=1000)\n",
    "# epoch : 모든 데이터에 대해 층을 쌓고 컴파일, summary를 하는 작업 자체를 의미\n",
    "\n",
    "# 모델 평가 및 예측\n",
    "result = model.predict(np.array([-3.1, 3.0, 3.5, 15.0, 20.1]))\n",
    "\n",
    "result"
   ]
  },
  {
   "cell_type": "code",
   "execution_count": null,
   "metadata": {},
   "outputs": [],
   "source": [
    "import matplotlib.pyplot as plt\n",
    "\n",
    "plt.title('Loss Trend')\n",
    "\n",
    "plt.xlabel('Epochs')\n",
    "plt.ylabel('Loss')\n",
    "\n",
    "plt.grid()\n",
    "\n",
    "plt.plot(hist.history['loss'], label='Train Loss')\n",
    "plt.legend(loc='best')\n",
    "\n",
    "plt.show()"
   ]
  },
  {
   "cell_type": "code",
   "execution_count": null,
   "metadata": {},
   "outputs": [],
   "source": [
    "hist.history"
   ]
  },
  {
   "cell_type": "code",
   "execution_count": null,
   "metadata": {},
   "outputs": [],
   "source": [
    "model.save('test.pkl')"
   ]
  },
  {
   "cell_type": "code",
   "execution_count": 2,
   "metadata": {},
   "outputs": [],
   "source": [
    "import tensorflow as tf\n",
    "import numpy as np\n",
    "\n",
    "new_load_model = tf.keras.models.load_model('test.pkl')"
   ]
  },
  {
   "cell_type": "code",
   "execution_count": 3,
   "metadata": {},
   "outputs": [
    {
     "name": "stdout",
     "output_type": "stream",
     "text": [
      "WARNING:tensorflow:AutoGraph could not transform <function Model.make_predict_function.<locals>.predict_function at 0x000001806B28C678> and will run it as-is.\n",
      "Please report this to the TensorFlow team. When filing the bug, set the verbosity to 10 (on Linux, `export AUTOGRAPH_VERBOSITY=10`) and attach the full output.\n",
      "Cause: 'arguments' object has no attribute 'posonlyargs'\n",
      "To silence this warning, decorate the function with @tf.autograph.experimental.do_not_convert\n",
      "WARNING: AutoGraph could not transform <function Model.make_predict_function.<locals>.predict_function at 0x000001806B28C678> and will run it as-is.\n",
      "Please report this to the TensorFlow team. When filing the bug, set the verbosity to 10 (on Linux, `export AUTOGRAPH_VERBOSITY=10`) and attach the full output.\n",
      "Cause: 'arguments' object has no attribute 'posonlyargs'\n",
      "To silence this warning, decorate the function with @tf.autograph.experimental.do_not_convert\n",
      "1/1 [==============================] - 0s 59ms/step\n"
     ]
    },
    {
     "data": {
      "text/plain": [
       "array([[-1.1691151],\n",
       "       [ 4.988003 ],\n",
       "       [ 5.492685 ],\n",
       "       [17.100367 ],\n",
       "       [22.248121 ]], dtype=float32)"
      ]
     },
     "execution_count": 3,
     "metadata": {},
     "output_type": "execute_result"
    }
   ],
   "source": [
    "new_load_model.predict(np.array([-3.1, 3.0, 3.5, 15.0, 20.1]))"
   ]
  },
  {
   "cell_type": "code",
   "execution_count": null,
   "metadata": {},
   "outputs": [],
   "source": []
  }
 ],
 "metadata": {
  "kernelspec": {
   "display_name": "Python 3.7.9 ('venv': venv)",
   "language": "python",
   "name": "python3"
  },
  "language_info": {
   "codemirror_mode": {
    "name": "ipython",
    "version": 3
   },
   "file_extension": ".py",
   "mimetype": "text/x-python",
   "name": "python",
   "nbconvert_exporter": "python",
   "pygments_lexer": "ipython3",
   "version": "3.7.9"
  },
  "orig_nbformat": 4,
  "vscode": {
   "interpreter": {
    "hash": "f1d7460674a73418ab454bd6edfaf2f1a894e6aad421ddec5a5a37cc572abb49"
   }
  }
 },
 "nbformat": 4,
 "nbformat_minor": 2
}
