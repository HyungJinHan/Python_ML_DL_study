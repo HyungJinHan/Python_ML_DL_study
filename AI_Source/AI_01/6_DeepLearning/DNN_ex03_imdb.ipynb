{
 "cells": [
  {
   "cell_type": "markdown",
   "metadata": {},
   "source": [
    "# `IMDB` 데이터 셋 예제\n",
    "### 영화 리뷰를 사용한 텍스트 분류\n",
    "- 총 5000건의 영화 리뷰 텍스트를 담은 `IMDB` 데이터 셋<br><br>\n",
    "  - 훈련용 25000개, 테스트용 25000개로 구성되어 있음<br><br>\n",
    "  - 긍정 리뷰는 1, 부정 리뷰는 0으로 나타냄<br><br>"
   ]
  },
  {
   "cell_type": "code",
   "execution_count": null,
   "metadata": {},
   "outputs": [],
   "source": [
    "import tensorflow as tf\n",
    "from tensorflow import keras\n",
    "import numpy as np\n",
    "\n",
    "imdb = keras.datasets.imdb\n",
    "\n",
    "(train_data, train_labels), (test_data, test_labels) = imdb.load_data(num_words=10000)"
   ]
  },
  {
   "cell_type": "code",
   "execution_count": null,
   "metadata": {},
   "outputs": [],
   "source": [
    "print('훈련 샘플 : {} / 레이블 : {}'.format(len(train_data), len(train_labels)))"
   ]
  },
  {
   "cell_type": "code",
   "execution_count": null,
   "metadata": {},
   "outputs": [],
   "source": [
    "print(train_data.shape, train_labels.shape, test_data.shape)"
   ]
  },
  {
   "cell_type": "code",
   "execution_count": null,
   "metadata": {},
   "outputs": [],
   "source": [
    "train_data[0:2]\n",
    "# 단어 하나씩 인덱스 번호를 지정해서 숫자로 글을 표현\n",
    "# 겹치는 단어는 같은 인덱스 번호로, 나머지는 각각의 인덱스 번호로 표현"
   ]
  },
  {
   "cell_type": "code",
   "execution_count": null,
   "metadata": {},
   "outputs": [],
   "source": [
    "train_labels[0:10]\n",
    "# 긍정적인 리뷰 : 1 / 부정적인 리뷰 : 0"
   ]
  },
  {
   "cell_type": "code",
   "execution_count": null,
   "metadata": {},
   "outputs": [],
   "source": [
    "print(len(train_data[0])) # 리뷰 길이 218\n",
    "print(len(train_data[1])) # 리뷰 길이 189\n",
    "print(len(train_data[2])) # 리뷰 길이 141\n",
    "# 각각의 길이가 다르기 때문에 제일 긴 리뷰를 기준을고 동일하게 채워주는 작업을 진행해야 함"
   ]
  },
  {
   "cell_type": "code",
   "execution_count": null,
   "metadata": {},
   "outputs": [],
   "source": [
    "word_index = imdb.get_word_index()\n",
    "\n",
    "print(word_index.items())\n",
    "# 각 단어와 인덱스 번호를 짝지어서 출력"
   ]
  },
  {
   "cell_type": "code",
   "execution_count": null,
   "metadata": {},
   "outputs": [],
   "source": [
    "word_index = {k:(v + 3) for k, v in word_index.items()}\n",
    "\n",
    "word_index\n",
    "# k : 단어 대입 / v : 단어 인덱스 (3을 더해서 맨 앞의 3개의 번호 자리를 나중에 이용함)"
   ]
  },
  {
   "cell_type": "code",
   "execution_count": null,
   "metadata": {},
   "outputs": [],
   "source": [
    "word_index['<PAD>'] = 0\n",
    "word_index['<START>'] = 1\n",
    "word_index['<UNK>'] = 2\n",
    "word_index['<UNUSED>'] = 3\n",
    "# 기본적으로 라이브러리를 이용한 단어 인덱스 번호 지정은 0이 아닌 1부터 시작함\n",
    "# 0은 인덱스 번호가 처음에 없기 때문에 임의로 지정해서 새로운 단어를 넣어줌"
   ]
  },
  {
   "cell_type": "code",
   "execution_count": null,
   "metadata": {},
   "outputs": [],
   "source": [
    "reverse_word_index = dict([(value, key) for (key, value) in word_index.items()])\n",
    "\n",
    "reverse_word_index\n",
    "# 인덱스 번호와 단어 순서 바꾸는 작업"
   ]
  },
  {
   "cell_type": "code",
   "execution_count": null,
   "metadata": {},
   "outputs": [],
   "source": [
    "def decode_review(text):\n",
    "  return ' '.join([reverse_word_index.get(i, '?') for i in text])\n",
    "\n",
    "decode_review(train_data[0])\n",
    "# 인덱스 번호에 해당하는 단어를 텍스트로 전환해주는 함수\n",
    "# 해당 인덱스 번호의 단어가 없는 경우 ?로 출력"
   ]
  },
  {
   "cell_type": "markdown",
   "metadata": {},
   "source": [
    "- `pad_sequences(sequences, maxlen=None, dtype='int32', padding='pre', truncating='pre', value=0.0)`<br><br>\n",
    "  - 문장의 길이를 `maxlen` 인자로 맞추어 준다.<br><br>\n",
    "  - 120으로 지정했다면 120보다 짧은 문장은 0으로 채워서 120 단어로 맞춰주고, 120보다 긴 문장은 120 단어까지만 잘라낸다.<br><br>\n",
    "  - `(num_samples, num_timesteps)`으로 2차원의 `numpy` 배열로 만들어준다.<br><br>\n",
    "  - `maxlen`을 120으로 지정했다면, `num_timesteps`도 120이 된다.<br><br>\n",
    "  - 인수<br><br>\n",
    "    - `padding` : `pre` or `post`<br><br>\n",
    "    - `truncating` : `pre` or `post`<br><br>\n",
    "    - `value` : 채워질 값 (`default=0`)<br><br>"
   ]
  },
  {
   "cell_type": "code",
   "execution_count": null,
   "metadata": {},
   "outputs": [],
   "source": [
    "train_data = keras.preprocessing.sequence.pad_sequences(\n",
    "  train_data,\n",
    "  value=word_index['<PAD>'],\n",
    "  padding='post', # 뒷부분 채우기\n",
    "  maxlen=256\n",
    ")\n",
    "\n",
    "test_data = keras.preprocessing.sequence.pad_sequences(\n",
    "  test_data,\n",
    "  value=word_index['<PAD>'],\n",
    "  padding='post',\n",
    "  maxlen=256\n",
    ")\n",
    "\n",
    "train_data[0]"
   ]
  },
  {
   "cell_type": "code",
   "execution_count": null,
   "metadata": {},
   "outputs": [],
   "source": [
    "vocab_size = 10000\n",
    "\n",
    "model = keras.Sequential()\n",
    "\n",
    "model.add(keras.layers.Embedding(\n",
    "  vocab_size,\n",
    "  16,\n",
    "  input_shape=(None,)\n",
    "))\n",
    "\n",
    "model.add(keras.layers.GlobalAveragePooling1D())\n",
    "# 평균값을 이용해 데이터 처리\n",
    "# sequence 차원에 대해 평균을 계산하여 각 샘플에 대해 고정된 길이(여기에선 16)의 출력 벡터 반환\n",
    "\n",
    "model.add(keras.layers.Dense(\n",
    "  16,\n",
    "  activation='relu'\n",
    "))\n",
    "\n",
    "model.add(keras.layers.Dense(\n",
    "  1,\n",
    "  activation='sigmoid'\n",
    "))\n",
    "\n",
    "model.summary()"
   ]
  },
  {
   "cell_type": "code",
   "execution_count": null,
   "metadata": {},
   "outputs": [],
   "source": [
    "model.compile(\n",
    "  optimizer='adam',\n",
    "  loss='binary_crossentropy', # 이진 분류\n",
    "  metrics=['accuracy']\n",
    ")"
   ]
  },
  {
   "cell_type": "code",
   "execution_count": null,
   "metadata": {},
   "outputs": [],
   "source": [
    "# 훈련 데이터\n",
    "import datetime\n",
    "log_dir = 'logs\\\\fit\\\\' + datetime.datetime.now().strftime('%Y%m%d-%H%M%S')\n",
    "\n",
    "tensorboard_callback = tf.keras.callbacks.TensorBoard(log_dir=log_dir, histogram_freq=1)\n",
    "\n",
    "x_val = train_data[:10000]\n",
    "partial_x_train = train_data[10000:]\n",
    "\n",
    "# 정답 데이터\n",
    "y_val = train_labels[:10000]\n",
    "partial_y_train = train_labels[10000:]\n",
    "\n",
    "history = model.fit(\n",
    "  partial_x_train,\n",
    "  partial_y_train,\n",
    "  epochs=40,\n",
    "  batch_size=512,\n",
    "  validation_data=(x_val, y_val),\n",
    "  verbose=1,\n",
    "  callbacks=tensorboard_callback\n",
    ")\n",
    "# loss: 0.0858 - accuracy: 0.9787 (훈련 내용)\n",
    "# val_loss: 0.3183 - val_accuracy: 0.8808 (검증 내용)"
   ]
  },
  {
   "cell_type": "code",
   "execution_count": null,
   "metadata": {},
   "outputs": [],
   "source": [
    "results = model.evaluate(\n",
    "  test_data,\n",
    "  test_labels,\n",
    "  verbose=2\n",
    ")\n",
    "\n",
    "print('Loss =', results[0])\n",
    "print('Accuracy =', results[1])"
   ]
  },
  {
   "cell_type": "code",
   "execution_count": null,
   "metadata": {},
   "outputs": [],
   "source": [
    "history_dict = history.history\n",
    "\n",
    "history_dict.keys()"
   ]
  },
  {
   "cell_type": "code",
   "execution_count": null,
   "metadata": {},
   "outputs": [],
   "source": [
    "import matplotlib.pyplot as plt\n",
    "\n",
    "acc = history_dict['accuracy']\n",
    "val_acc = history_dict['val_accuracy']\n",
    "\n",
    "loss = history_dict['loss']\n",
    "val_loss = history_dict['val_loss']\n",
    "\n",
    "epochs = range(1, len(acc) + 1)\n",
    "\n",
    "plt.plot(\n",
    "  epochs,\n",
    "  loss,\n",
    "  'bo',\n",
    "  label='Training loss'\n",
    ")\n",
    "\n",
    "plt.plot(\n",
    "  epochs,\n",
    "  val_loss,\n",
    "  'b',\n",
    "  label='Validation loss'\n",
    ")\n",
    "\n",
    "plt.title('Training and Validation loss')\n",
    "\n",
    "plt.xlabel('Epochs')\n",
    "plt.ylabel('Loss')\n",
    "\n",
    "plt.legend()\n",
    "\n",
    "plt.show()"
   ]
  },
  {
   "cell_type": "code",
   "execution_count": null,
   "metadata": {},
   "outputs": [],
   "source": [
    "plt.clf() # 기존의 그래프 삭제\n",
    "\n",
    "plt.plot(\n",
    "  epochs,\n",
    "  acc,\n",
    "  'bo',\n",
    "  label='Training Accuracy'\n",
    ")\n",
    "\n",
    "plt.plot(\n",
    "  epochs,\n",
    "  val_acc,\n",
    "  'b',\n",
    "  label='Validation Accuracy'\n",
    ")\n",
    "\n",
    "plt.title('Training and Validation Accuracy')\n",
    "\n",
    "plt.xlabel('Epochs')\n",
    "plt.ylabel('Accuracy')\n",
    "\n",
    "plt.legend()\n",
    "\n",
    "plt.show()"
   ]
  }
 ],
 "metadata": {
  "kernelspec": {
   "display_name": "Python 3.7.9 ('venv': venv)",
   "language": "python",
   "name": "python3"
  },
  "language_info": {
   "codemirror_mode": {
    "name": "ipython",
    "version": 3
   },
   "file_extension": ".py",
   "mimetype": "text/x-python",
   "name": "python",
   "nbconvert_exporter": "python",
   "pygments_lexer": "ipython3",
   "version": "3.7.9"
  },
  "orig_nbformat": 4,
  "vscode": {
   "interpreter": {
    "hash": "f1d7460674a73418ab454bd6edfaf2f1a894e6aad421ddec5a5a37cc572abb49"
   }
  }
 },
 "nbformat": 4,
 "nbformat_minor": 2
}
