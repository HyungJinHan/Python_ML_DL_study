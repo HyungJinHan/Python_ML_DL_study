{
 "cells": [
  {
   "cell_type": "code",
   "execution_count": 44,
   "metadata": {},
   "outputs": [
    {
     "name": "stdout",
     "output_type": "stream",
     "text": [
      "a : Tensor(\"Const_39:0\", shape=(), dtype=float32)\n",
      "a + b : Tensor(\"add_25:0\", shape=(), dtype=float32)\n",
      "c : Tensor(\"Const_41:0\", shape=(2, 2), dtype=float32)\n"
     ]
    }
   ],
   "source": [
    "import tensorflow as tf\n",
    "\n",
    "# 상수 노드 정의\n",
    "a = tf.constant(1.0)\n",
    "b = tf.constant(2.0)\n",
    "c = tf.constant([[1.0, 2.0], [3.0, 4.0]])\n",
    "\n",
    "print('a :', a)\n",
    "print('a + b :', a + b)\n",
    "print('c :', c)"
   ]
  },
  {
   "cell_type": "code",
   "execution_count": 45,
   "metadata": {},
   "outputs": [
    {
     "name": "stdout",
     "output_type": "stream",
     "text": [
      "sess.run([a, b])\n",
      " [1.0, 2.0] \n",
      "\n",
      "sess.run(c)\n",
      " [[1. 2.]\n",
      " [3. 4.]] \n",
      "\n",
      "sess.run([a + b])\n",
      " [3.0] \n",
      "\n",
      "sess.run(c + 1.0)\n",
      " [[2. 3.]\n",
      " [4. 5.]] \n",
      "\n"
     ]
    }
   ],
   "source": [
    "sess = tf.compat.v1.Session()\n",
    "# sess = tf.compat.v1.Session()\n",
    "# 구버전의 경우 세션 생성하는 방법이 살짝 다름\n",
    "\n",
    "print('sess.run([a, b])\\n',sess.run([a, b]), '\\n')\n",
    "print('sess.run(c)\\n', sess.run(c), '\\n')\n",
    "print('sess.run([a + b])\\n', sess.run([a + b]), '\\n')\n",
    "print('sess.run(c + 1.0)\\n', sess.run(c + 1.0), '\\n') # broadcast 실행\n",
    "\n",
    "# 세션 close\n",
    "sess.close()"
   ]
  },
  {
   "cell_type": "code",
   "execution_count": 46,
   "metadata": {},
   "outputs": [
    {
     "name": "stdout",
     "output_type": "stream",
     "text": [
      "res1\n",
      " 14\n",
      "res2\n",
      " 20\n"
     ]
    }
   ],
   "source": [
    "# TensorFlow 읽어 들이기\n",
    "import tensorflow as tf\n",
    "\n",
    "# 상수 정의\n",
    "a = tf.constant(2)\n",
    "b = tf.constant(3)\n",
    "c = tf.constant(4)\n",
    "\n",
    "# 연산 정의\n",
    "calc1_op = a + b * c\n",
    "calc2_op = (a + b) * c\n",
    "\n",
    "# 세션 시작\n",
    "sess = tf.compat.v1.Session()\n",
    "\n",
    "res1 = sess.run(calc1_op) # 식 평가\n",
    "res2 = sess.run(calc2_op) # 식 평가\n",
    "\n",
    "print('res1\\n', res1)\n",
    "print('res2\\n', res2)\n",
    "\n",
    "sess.close()\n",
    "# 이미 상수로 지정 되어있기 때문에 따로 값을 대입해야하는 식이 필요"
   ]
  },
  {
   "cell_type": "code",
   "execution_count": 47,
   "metadata": {},
   "outputs": [
    {
     "name": "stdout",
     "output_type": "stream",
     "text": [
      "a: 1.0 / b: 3.0\n",
      " 4.0\n",
      "a: [1.0, 2.0] / b: [3.0, 4.0]\n",
      " [4. 6.]\n"
     ]
    }
   ],
   "source": [
    "import tensorflow as tf\n",
    "\n",
    "# 플레이스홀더 노드 정의\n",
    "a = tf.compat.v1.placeholder(tf.float32)\n",
    "b = tf.compat.v1.placeholder(tf.float32)\n",
    "c = a + b\n",
    "\n",
    "# 세션 생성 후 플레이스홀도 노드를 통해 값 입력 받기\n",
    "sess = tf.compat.v1.Session()\n",
    "\n",
    "print('a: 1.0 / b: 3.0\\n', sess.run(c, feed_dict={\n",
    "  a: 1.0,\n",
    "  b: 3.0\n",
    "}))\n",
    "\n",
    "print('a: [1.0, 2.0] / b: [3.0, 4.0]\\n', sess.run(c, feed_dict={\n",
    "  a: [1.0, 2.0],\n",
    "  b: [3.0, 4.0]\n",
    "}))\n",
    "\n",
    "sess.close()\n",
    "# 실행시키는 시점에서 값을 지정하기 때문에 사용에 용이"
   ]
  },
  {
   "cell_type": "code",
   "execution_count": 48,
   "metadata": {},
   "outputs": [
    {
     "name": "stdout",
     "output_type": "stream",
     "text": [
      "a: [1, 2, 3] * 2(tf.constant(2))\n",
      " [2 4 6]\n",
      "a: [10, 20, 30] * 2(tf.constant(2))\n",
      " [20 40 60]\n"
     ]
    }
   ],
   "source": [
    "import tensorflow as tf\n",
    "\n",
    "# 플레이스홀더 노드 정의\n",
    "a = tf.compat.v1.placeholder(tf.int32, [3]) # 정수 자료형 3개를 가진 배열\n",
    "\n",
    "# 배열을 모든 값을 2배하는 연산 정의\n",
    "b = tf.constant(2)\n",
    "x2_op = a * b\n",
    "\n",
    "# 세션 시작\n",
    "sess = tf.compat.v1.Session()\n",
    "\n",
    "# 플레이스홀더에 값을 넣고 실행\n",
    "r1 = sess.run(x2_op, feed_dict={\n",
    "  a: [1, 2, 3]\n",
    "})\n",
    "\n",
    "r2 = sess.run(x2_op, feed_dict={\n",
    "  a: [10, 20, 30]\n",
    "})\n",
    "\n",
    "print('a: [1, 2, 3] * 2(tf.constant(2))\\n', r1)\n",
    "print('a: [10, 20, 30] * 2(tf.constant(2))\\n', r2)"
   ]
  },
  {
   "cell_type": "code",
   "execution_count": 49,
   "metadata": {},
   "outputs": [
    {
     "name": "stdout",
     "output_type": "stream",
     "text": [
      "step = 0 W1 = [0.07271298] b1 = [0.82371455]\n",
      "step = 0 W2 = [[-1.1237509   0.38796976]] b2 = [[ 0.5807562  -0.35156935]] \n",
      "\n",
      "step = 1 W1 = [-0.92728704] b1 = [-0.17628545]\n",
      "step = 1 W2 = [[-2.123751   -0.61203027]] b2 = [[-0.4192438 -1.3515694]] \n",
      "\n",
      "step = 2 W1 = [-2.927287] b1 = [-2.1762855]\n",
      "step = 2 W2 = [[-4.1237507 -2.6120303]] b2 = [[-2.4192438 -3.3515694]] \n",
      "\n"
     ]
    }
   ],
   "source": [
    "import tensorflow as tf\n",
    "\n",
    "# 값이 업데이트 되는 변수 노드 정의\n",
    "W1 = tf.Variable(tf.random.normal([1]))\n",
    "b1 = tf.Variable(tf.random.normal([1]))\n",
    "W2 = tf.Variable(tf.random.normal([1, 2]))\n",
    "b2 = tf.Variable(tf.random.normal([1, 2]))\n",
    "\n",
    "# 세션 시작\n",
    "sess = tf.compat.v1.Session()\n",
    "\n",
    "# 변수 노드 값 초기화 (변수 노드를 정의했다면 반드시 필요)\n",
    "# 아래의 문구를 만나야 값이 초기화됨\n",
    "sess.run(tf.compat.v1.global_variables_initializer())\n",
    "\n",
    "for step in range(3):\n",
    "  W1 = W1 - step\n",
    "  b1 = b1 - step\n",
    "  W2 = W2 - step\n",
    "  b2 = b2 - step\n",
    "\n",
    "  print('step =', step, 'W1 =', sess.run(W1), 'b1 =', sess.run(b1))\n",
    "  print('step =', step, 'W2 =', sess.run(W2), 'b2 =', sess.run(b2), '\\n')\n",
    "\n",
    "sess.close()"
   ]
  },
  {
   "cell_type": "code",
   "execution_count": 50,
   "metadata": {},
   "outputs": [
    {
     "name": "stdout",
     "output_type": "stream",
     "text": [
      "[ 2.  4.  6.  8. 10.]\n"
     ]
    }
   ],
   "source": [
    "import tensorflow as tf\n",
    "\n",
    "# feeding 값 선언\n",
    "input_data = [1, 2, 3, 4, 5]\n",
    "\n",
    "# placeholder 변수 선언\n",
    "x = tf.compat.v1.placeholder(dtype=tf.float32)\n",
    "\n",
    "# W = 2라는 값 선언\n",
    "W = tf.Variable([2], dtype=tf.float32)\n",
    "y = W * x\n",
    "\n",
    "sess = tf.compat.v1.Session()\n",
    "\n",
    "# 변수 초기화 코드를 세션에 전달\n",
    "sess.run(tf.compat.v1.global_variables_initializer())\n",
    "# y 그래프에 input_date feeding하면서 세션을 실행\n",
    "\n",
    "result = sess.run(y, feed_dict={\n",
    "  x: input_data\n",
    "})\n",
    "\n",
    "print(result)\n",
    "\n",
    "sess.close()"
   ]
  },
  {
   "cell_type": "code",
   "execution_count": 51,
   "metadata": {},
   "outputs": [
    {
     "name": "stdout",
     "output_type": "stream",
     "text": [
      "210\n"
     ]
    }
   ],
   "source": [
    "import tensorflow as tf\n",
    "\n",
    "# 상수 정의\n",
    "# name을 이용해서 별칭 부여 가능\n",
    "a = tf.constant(10)\n",
    "b = tf.constant(10)\n",
    "c = tf.constant(20)\n",
    "\n",
    "# 변수 정의\n",
    "# 변수 v를 정의하고 초기값 0을 저장\n",
    "v = tf.Variable(0)\n",
    "\n",
    "# 데이터 플로우 그래프 정의\n",
    "calc_op = a + b * c\n",
    "assign_op = tf.compat.v1.assign(v, calc_op)\n",
    "\n",
    "# 세션 실행\n",
    "sess = tf.compat.v1.Session()\n",
    "\n",
    "# tf.global_variables_initializer()\n",
    "# 메소드를 사용하여 세션에 초기화 연산을 수행해야 하며,\n",
    "# 변수에 메모리를 할당하고 초기값을 설정하는 역할을 한다.\n",
    "sess.run(tf.compat.v1.global_variables_initializer())\n",
    "sess.run(assign_op)\n",
    "\n",
    "# v 내용 출력\n",
    "print(sess.run(v))\n",
    "\n",
    "sess.close()"
   ]
  },
  {
   "cell_type": "code",
   "execution_count": 52,
   "metadata": {},
   "outputs": [],
   "source": [
    "import pandas as pd\n",
    "import numpy as np\n",
    "import tensorflow as tf\n",
    "\n",
    "# 키, 몸무게, 레이블이 적힌 CSV 파일 읽어오기\n",
    "csv = pd.read_csv('bmi.csv')\n",
    "\n",
    "# 데이터 정규화\n",
    "csv['height'] = csv['height'] / 200\n",
    "csv['weight'] = csv['weight'] / 100\n",
    "\n",
    "# 레이블을 배열로 변환 (원-핫 인코딩 방식과 동일)\n",
    "# thin=(1, 0, 0) / normal=(0, 1, 0) / fat=(0, 0, 1)\n",
    "bclass = {\n",
    "  'thin': [1, 0, 0],\n",
    "  'normal': [0, 1, 0],\n",
    "  'fat': [0, 0, 1]\n",
    "}\n",
    "\n",
    "csv['label_pat'] = csv['label'].apply(lambda x : np.array(bclass[x]))\n",
    "\n",
    "# 테스트를 위한 데이터 분류\n",
    "test_csv = csv[15000 : 20000]\n",
    "\n",
    "test_pat = test_csv[['weight', 'height']]\n",
    "\n",
    "test_ans = list(test_csv['label_pat'])"
   ]
  },
  {
   "cell_type": "code",
   "execution_count": 53,
   "metadata": {},
   "outputs": [],
   "source": [
    "# 플레이스홀더 선언\n",
    "x = tf.compat.v1.placeholder(tf.float32, [None, 2]) # 키와 몸무게 데이터 넣기 (2차원 구조)\n",
    "y_ = tf.compat.v1.placeholder(tf.float32, [None, 3])\n",
    "\n",
    "# 변수 선언\n",
    "W = tf.Variable(tf.zeros([2, 3])) # 가중치\n",
    "b = tf.Variable(tf.zeros([3])) # 바이어스\n",
    "\n",
    "# 소프트맥스 회귀 정의\n",
    "# tf.matmul() : 행렬 곱셈 함수\n",
    "# tf.nn.softmax() : 다중 행렬 연산 함수\n",
    "y = tf.nn.softmax(tf.matmul(x, W) + b)\n",
    "\n",
    "# 모델 훈련\n",
    "cross_entropy = tf.reduce_mean(tf.nn.softmax_cross_entropy_with_logits_v2(logits=y, labels=y_))\n",
    "\n",
    "# GradientDescentOptimizer\n",
    "# 경사하강법으로 손실 함수를 최소화하는 모델 파라미터를 찾기 위해 사용\n",
    "# 0.01은 학습률을 의미\n",
    "optimizer = tf.compat.v1.train.GradientDescentOptimizer(0.01) # W와 b를 자동으로 설정\n",
    "train = optimizer.minimize(cross_entropy)\n",
    "\n",
    "# 정답률 구하기\n",
    "predict = tf.equal(tf.argmax(y, 1), tf.argmax(y_, 1))\n",
    "accuracy = tf.reduce_mean(tf.cast(predict, tf.float32)) # tf.cast() : 캐스트 연산에 사용\n",
    "\n",
    "sess = tf.Session()\n",
    "\n",
    "sess.run(tf.compat.v1.global_variables_initializer()) # 변수 초기화"
   ]
  },
  {
   "cell_type": "code",
   "execution_count": 54,
   "metadata": {},
   "outputs": [
    {
     "name": "stdout",
     "output_type": "stream",
     "text": [
      "step= 0 cre= 1.098595 acc= 0.3242\n",
      "step= 500 cre= 1.0949001 acc= 0.3684\n",
      "step= 1000 cre= 1.0968362 acc= 0.3684\n",
      "step= 1500 cre= 1.0890875 acc= 0.3684\n",
      "step= 2000 cre= 1.0854574 acc= 0.3684\n",
      "step= 2500 cre= 1.0907798 acc= 0.3684\n",
      "step= 3000 cre= 1.0794799 acc= 0.3772\n",
      "step= 3500 cre= 1.0763575 acc= 0.4024\n",
      "step= 4000 cre= 1.082489 acc= 0.433\n",
      "step= 4500 cre= 1.0693377 acc= 0.4796\n",
      "step= 5000 cre= 1.0670123 acc= 0.5142\n",
      "step= 5500 cre= 1.0734547 acc= 0.5468\n",
      "step= 6000 cre= 1.058941 acc= 0.5828\n",
      "step= 6500 cre= 1.0574982 acc= 0.6054\n",
      "step= 7000 cre= 1.064285 acc= 0.6246\n",
      "step= 7500 cre= 1.0485251 acc= 0.6442\n",
      "step= 8000 cre= 1.0479634 acc= 0.6528\n",
      "step= 8500 cre= 1.0552124 acc= 0.659\n",
      "step= 9000 cre= 1.038259 acc= 0.6674\n",
      "step= 9500 cre= 1.0385478 acc= 0.6726\n",
      "step= 10000 cre= 1.0463612 acc= 0.6774\n",
      "step= 10500 cre= 1.0282755 acc= 0.6812\n",
      "step= 11000 cre= 1.02937 acc= 0.683\n",
      "step= 11500 cre= 1.0378207 acc= 0.6846\n",
      "step= 12000 cre= 1.018677 acc= 0.6868\n",
      "step= 12500 cre= 1.0205232 acc= 0.6872\n",
      "step= 13000 cre= 1.0296557 acc= 0.6872\n",
      "step= 13500 cre= 1.0095369 acc= 0.6888\n",
      "step= 14000 cre= 1.0120745 acc= 0.6892\n",
      "step= 14500 cre= 1.0219083 acc= 0.6894\n",
      "step= 15000 cre= 1.0009 acc= 0.6906\n",
      "step= 15500 cre= 1.0040642 acc= 0.6906\n",
      "step= 16000 cre= 1.0145996 acc= 0.6906\n",
      "step= 16500 cre= 0.99278593 acc= 0.692\n",
      "step= 17000 cre= 0.9965115 acc= 0.692\n",
      "step= 17500 cre= 1.0077327 acc= 0.692\n",
      "step= 18000 cre= 0.98519516 acc= 0.6926\n",
      "step= 18500 cre= 0.98941886 acc= 0.6926\n",
      "step= 19000 cre= 1.0012985 acc= 0.6926\n",
      "step= 19500 cre= 0.97811395 acc= 0.6926\n",
      "\n",
      "정답률 = 0.6926\n"
     ]
    }
   ],
   "source": [
    "# 학습시키기\n",
    "for step in range(20000):\n",
    "  i = (step * 100) % 15000\n",
    "\n",
    "  rows = csv[1 + i : 1 + i + 100]\n",
    "\n",
    "  x_pat = rows[[\"weight\",\"height\"]]\n",
    "  y_ans = list(rows[\"label_pat\"])\n",
    "\n",
    "  fd = {x: x_pat, y_: y_ans}\n",
    "\n",
    "  sess.run(train, feed_dict=fd)\n",
    "\n",
    "  if step % 500 == 0:\n",
    "    cre = sess.run(cross_entropy, feed_dict=fd)\n",
    "    acc = sess.run(accuracy, feed_dict={x: test_pat, y_: test_ans})\n",
    "\n",
    "    print(\"step=\", step, \"cre=\", cre, \"acc=\", acc)\n",
    "\n",
    "# 최종적인 정답률 구하기\n",
    "acc = sess.run(accuracy, feed_dict={x: test_pat, y_: test_ans})\n",
    "\n",
    "print(\"\\n정답률 =\", acc)\n",
    "\n",
    "# 세션 close\n",
    "sess.close()\n",
    "\n",
    "# step= 0 cre= 1.098595 acc= 0.3242\n",
    "# step= 500 cre= 1.0949001 acc= 0.3684\n",
    "# step= 1000 cre= 1.0968362 acc= 0.3684\n",
    "# step= 1500 cre= 1.0890875 acc= 0.3684\n",
    "# step= 2000 cre= 1.0854574 acc= 0.3684\n",
    "# step= 2500 cre= 1.0907798 acc= 0.3684\n",
    "# ...\n",
    "# step= 19000 cre= 1.0012985 acc= 0.6926\n",
    "# step= 19500 cre= 0.97811395 acc= 0.6926\n",
    "\n",
    "# 정답률 = 0.6926"
   ]
  },
  {
   "cell_type": "code",
   "execution_count": null,
   "metadata": {},
   "outputs": [],
   "source": []
  }
 ],
 "metadata": {
  "kernelspec": {
   "display_name": "Python 3.7.9 ('venv': venv)",
   "language": "python",
   "name": "python3"
  },
  "language_info": {
   "codemirror_mode": {
    "name": "ipython",
    "version": 3
   },
   "file_extension": ".py",
   "mimetype": "text/x-python",
   "name": "python",
   "nbconvert_exporter": "python",
   "pygments_lexer": "ipython3",
   "version": "3.7.9"
  },
  "orig_nbformat": 4,
  "vscode": {
   "interpreter": {
    "hash": "f1d7460674a73418ab454bd6edfaf2f1a894e6aad421ddec5a5a37cc572abb49"
   }
  }
 },
 "nbformat": 4,
 "nbformat_minor": 2
}
