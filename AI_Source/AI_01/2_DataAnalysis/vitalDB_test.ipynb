{
 "cells": [
  {
   "cell_type": "code",
   "execution_count": 10,
   "id": "ceafc02e",
   "metadata": {},
   "outputs": [],
   "source": [
    "import vitaldb\n",
    "import matplotlib.pyplot as plt"
   ]
  },
  {
   "cell_type": "code",
   "execution_count": 77,
   "id": "345962f2",
   "metadata": {},
   "outputs": [
    {
     "data": {
      "text/html": [
       "<div>\n",
       "<style scoped>\n",
       "    .dataframe tbody tr th:only-of-type {\n",
       "        vertical-align: middle;\n",
       "    }\n",
       "\n",
       "    .dataframe tbody tr th {\n",
       "        vertical-align: top;\n",
       "    }\n",
       "\n",
       "    .dataframe thead th {\n",
       "        text-align: right;\n",
       "    }\n",
       "</style>\n",
       "<table border=\"1\" class=\"dataframe\">\n",
       "  <thead>\n",
       "    <tr style=\"text-align: right;\">\n",
       "      <th></th>\n",
       "      <th>Primus/AWP</th>\n",
       "    </tr>\n",
       "  </thead>\n",
       "  <tbody>\n",
       "    <tr>\n",
       "      <th>262709</th>\n",
       "      <td>0.3440</td>\n",
       "    </tr>\n",
       "    <tr>\n",
       "      <th>205071</th>\n",
       "      <td>0.4504</td>\n",
       "    </tr>\n",
       "    <tr>\n",
       "      <th>1118194</th>\n",
       "      <td>-0.5072</td>\n",
       "    </tr>\n",
       "    <tr>\n",
       "      <th>325421</th>\n",
       "      <td>8.4304</td>\n",
       "    </tr>\n",
       "    <tr>\n",
       "      <th>717162</th>\n",
       "      <td>14.9208</td>\n",
       "    </tr>\n",
       "    <tr>\n",
       "      <th>325752</th>\n",
       "      <td>0.3440</td>\n",
       "    </tr>\n",
       "    <tr>\n",
       "      <th>741583</th>\n",
       "      <td>5.2384</td>\n",
       "    </tr>\n",
       "    <tr>\n",
       "      <th>704774</th>\n",
       "      <td>5.5576</td>\n",
       "    </tr>\n",
       "    <tr>\n",
       "      <th>47132</th>\n",
       "      <td>0.7696</td>\n",
       "    </tr>\n",
       "    <tr>\n",
       "      <th>679192</th>\n",
       "      <td>7.1536</td>\n",
       "    </tr>\n",
       "  </tbody>\n",
       "</table>\n",
       "</div>"
      ],
      "text/plain": [
       "         Primus/AWP\n",
       "262709       0.3440\n",
       "205071       0.4504\n",
       "1118194     -0.5072\n",
       "325421       8.4304\n",
       "717162      14.9208\n",
       "325752       0.3440\n",
       "741583       5.2384\n",
       "704774       5.5576\n",
       "47132        0.7696\n",
       "679192       7.1536"
      ]
     },
     "execution_count": 77,
     "metadata": {},
     "output_type": "execute_result"
    }
   ],
   "source": [
    "track_names = ['Primus/AWP']\n",
    "vf = vitaldb.VitalFile(1, track_names)\n",
    "samples = vf.to_pandas(track_names, 1/100)\n",
    "\n",
    "samples.sample(10)"
   ]
  }
 ],
 "metadata": {
  "kernelspec": {
   "display_name": "Python 3 (ipykernel)",
   "language": "python",
   "name": "python3"
  },
  "language_info": {
   "codemirror_mode": {
    "name": "ipython",
    "version": 3
   },
   "file_extension": ".py",
   "mimetype": "text/x-python",
   "name": "python",
   "nbconvert_exporter": "python",
   "pygments_lexer": "ipython3",
   "version": "3.7.9"
  }
 },
 "nbformat": 4,
 "nbformat_minor": 5
}
