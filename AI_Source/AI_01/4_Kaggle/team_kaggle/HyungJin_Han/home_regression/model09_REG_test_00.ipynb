{
 "cells": [
  {
   "cell_type": "markdown",
   "metadata": {},
   "source": [
    "# Acknowledgements\n",
    "\n",
    "이 데이터는 인터넷 사이트를 통해 직접 수집된 데이터입니다.<br>\n",
    "ML을 이용해 집 가격을 예측하는 모델을 완성해보세요.<br><br>\n",
    "\n",
    "## 주택 가격 예측 모델 (회귀 모델)<br><br>\n",
    "\n",
    "# File descriptions\n",
    "\n",
    "- `train.csv` - 트레이닝 셋<br><br>\n",
    "- `test.csv` - 테스트 셋<br><br>\n",
    "- `sampleSubmission.csv` - 케글 점수 체크용 정답 데이터 셋<br><br>\n",
    "\n",
    "# Data fields\n",
    "\n",
    "- `ID` - 각 집의 고유한 번호<br><br>\n",
    "- `ADDRESS` - 집의 주소<br><br>\n",
    "- `SUBURB` - 동네 이름<br><br>\n",
    "- `PRICE` - 가격<br><br>\n",
    "- `BEDROOMS` - 침실의 갯수<br><br>\n",
    "- `BATHROOMS` - 욕실의 갯수<br><br>\n",
    "- `GARAGE` - 차고의 수<br><br>\n",
    "- `LAND_AREA` - 토지 면적<br><br>\n",
    "- `FLOOR_AREA` - 건물 면적<br><br>\n",
    "- `BUILD_YEAR` - 건축년도<br><br>\n",
    "- `CBD_DIST` - Central business district까지의 거리<br><br>\n",
    "- `NEAREST_STN` - 근처 역 정보<br><br>\n",
    "- `NEAREST_STN_DIST` - 근처 역까지 거리<br><br>\n",
    "- `DATE_SOLD` - 판매된 날짜<br><br>\n",
    "- `POSTCODE` - 우편번호<br><br>\n",
    "- `LATITUDE` - 위도<br><br>\n",
    "- `LONGITUDE` - 경도<br><br>\n",
    "- `NEAREST_SCH` - 근교의 학교<br><br>\n",
    "- `NEAREST_SCH_DIST` - 근교의 학교까지의 거리<br><br>\n",
    "- `NEAREST_SCH_RANK` - 근교의 학교까지의 랭킹<br><br>\n"
   ]
  },
  {
   "cell_type": "code",
   "execution_count": 1,
   "metadata": {},
   "outputs": [],
   "source": [
    "import numpy as np\n",
    "import pandas as pd\n",
    "\n",
    "from sklearn.model_selection import train_test_split\n",
    "from sklearn.preprocessing import StandardScaler\n",
    "\n",
    "from sklearn.linear_model import LinearRegression, Ridge, Lasso\n",
    "\n",
    "import warnings\n",
    "warnings.filterwarnings(action='ignore')"
   ]
  },
  {
   "cell_type": "code",
   "execution_count": 2,
   "metadata": {},
   "outputs": [],
   "source": [
    "df = pd.read_csv('./train.csv')\n",
    "test_df = pd.read_csv('./test.csv')"
   ]
  },
  {
   "cell_type": "code",
   "execution_count": 3,
   "metadata": {},
   "outputs": [],
   "source": [
    "def preprocess_inputs(df):\n",
    "    df = df.copy()\n",
    "    \n",
    "    # Drop high-cardinality ADDRESS column\n",
    "    df = df.drop('ADDRESS', axis=1)\n",
    "    \n",
    "    # Drop high-missing value (> 25%) column\n",
    "    df = df.drop('NEAREST_SCH_RANK', axis=1)\n",
    "    \n",
    "    # Fill missing values\n",
    "    df['BUILD_YEAR'] = df['BUILD_YEAR'].fillna(df['BUILD_YEAR'].median())\n",
    "    \n",
    "    # Extract date features\n",
    "    df['DATE_SOLD'] = pd.to_datetime(df['DATE_SOLD'])\n",
    "    df['DATE_YEAR'] = df['DATE_SOLD'].apply(lambda x: x.year)\n",
    "    df['DATE_MONTH'] = df['DATE_SOLD'].apply(lambda x: x.month)\n",
    "    df = df.drop('DATE_SOLD', axis=1)\n",
    "    \n",
    "    # One-hot encode nominal features\n",
    "    for column in ['SUBURB', 'NEAREST_STN', 'NEAREST_SCH', 'POSTCODE', 'GARAGE']:\n",
    "        dummies = pd.get_dummies(df[column], prefix=column)\n",
    "        df = pd.concat([df, dummies], axis=1)\n",
    "        df = df.drop(column, axis=1)\n",
    "    \n",
    "    # Split df into X and y\n",
    "    y = df['PRICE']\n",
    "    X = df.drop('PRICE', axis=1)\n",
    "    \n",
    "    # Train-test split\n",
    "    X_train, X_test, y_train, y_test = train_test_split(X, y, train_size=0.7, shuffle=True, random_state=1)\n",
    "    \n",
    "    # Scale X\n",
    "    scaler = StandardScaler()\n",
    "    scaler.fit(X_train)\n",
    "    X_train = pd.DataFrame(scaler.transform(X_train), index=X_train.index, columns=X_train.columns)\n",
    "    X_test = pd.DataFrame(scaler.transform(X_test), index=X_test.index, columns=X_test.columns)\n",
    "    \n",
    "    return X_train, X_test, y_train, y_test"
   ]
  },
  {
   "cell_type": "code",
   "execution_count": 4,
   "metadata": {},
   "outputs": [],
   "source": [
    "X_train, X_test, y_train, y_test = preprocess_inputs(df)"
   ]
  },
  {
   "cell_type": "code",
   "execution_count": 7,
   "metadata": {},
   "outputs": [
    {
     "name": "stdout",
     "output_type": "stream",
     "text": [
      "                Linear Regression trained.\n",
      "Ridge (L2-Regularized) Regression trained.\n",
      "Lasso (L1-Regularized) Regression trained.\n"
     ]
    }
   ],
   "source": [
    "models = {\n",
    "    \"                Linear Regression\": LinearRegression(),\n",
    "    \"Ridge (L2-Regularized) Regression\": Ridge(),\n",
    "    \"Lasso (L1-Regularized) Regression\": Lasso()\n",
    "}\n",
    "\n",
    "for name, model in models.items():\n",
    "    model.fit(X_train, y_train)\n",
    "    print(name + \" trained.\")"
   ]
  },
  {
   "cell_type": "markdown",
   "metadata": {},
   "source": [
    "# 결과"
   ]
  },
  {
   "cell_type": "code",
   "execution_count": 8,
   "metadata": {},
   "outputs": [
    {
     "name": "stdout",
     "output_type": "stream",
     "text": [
      "                Linear Regression: R^2 Score: -2597381310416862188666880.00000\n",
      "Ridge (L2-Regularized) Regression: R^2 Score: 0.75647\n",
      "Lasso (L1-Regularized) Regression: R^2 Score: 0.75651\n"
     ]
    }
   ],
   "source": [
    "for name, model in models.items():\n",
    "    print(name + \": R^2 Score: {:.5f}\".format(model.score(X_test, y_test)))"
   ]
  },
  {
   "cell_type": "code",
   "execution_count": 10,
   "metadata": {},
   "outputs": [],
   "source": [
    "lasso_model = Lasso(alpha=10.0)\n",
    "lasso_model.fit(X_train, y_train)\n",
    "\n",
    "print(\"R^2 Score: {:.5f}\".format(lasso_model.score(X_test, y_test)))"
   ]
  }
 ],
 "metadata": {
  "kernelspec": {
   "display_name": "Python 3.7.9 ('venv': venv)",
   "language": "python",
   "name": "python3"
  },
  "language_info": {
   "codemirror_mode": {
    "name": "ipython",
    "version": 3
   },
   "file_extension": ".py",
   "mimetype": "text/x-python",
   "name": "python",
   "nbconvert_exporter": "python",
   "pygments_lexer": "ipython3",
   "version": "3.7.9"
  },
  "orig_nbformat": 4,
  "vscode": {
   "interpreter": {
    "hash": "f1d7460674a73418ab454bd6edfaf2f1a894e6aad421ddec5a5a37cc572abb49"
   }
  }
 },
 "nbformat": 4,
 "nbformat_minor": 2
}
