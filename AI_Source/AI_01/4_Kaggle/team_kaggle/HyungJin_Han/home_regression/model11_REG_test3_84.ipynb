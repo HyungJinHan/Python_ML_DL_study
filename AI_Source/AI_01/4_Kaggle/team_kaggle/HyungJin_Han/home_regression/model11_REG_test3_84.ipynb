{
 "cells": [
  {
   "cell_type": "code",
   "execution_count": 1,
   "metadata": {},
   "outputs": [],
   "source": [
    "import pandas as pd\n",
    "import numpy as np\n",
    "import seaborn as sb\n",
    "import matplotlib.pyplot as plt\n",
    "from datetime import datetime\n",
    "import seaborn as sns"
   ]
  },
  {
   "cell_type": "code",
   "execution_count": 2,
   "metadata": {},
   "outputs": [],
   "source": [
    "df = pd.read_csv('./train.csv')\n",
    "test_df = pd.read_csv('./test.csv')"
   ]
  },
  {
   "cell_type": "code",
   "execution_count": 3,
   "metadata": {},
   "outputs": [
    {
     "name": "stdout",
     "output_type": "stream",
     "text": [
      "<class 'pandas.core.frame.DataFrame'>\n",
      "RangeIndex: 18510 entries, 0 to 18509\n",
      "Data columns (total 20 columns):\n",
      " #   Column            Non-Null Count  Dtype  \n",
      "---  ------            --------------  -----  \n",
      " 0   ID                18510 non-null  int64  \n",
      " 1   ADDRESS           18510 non-null  object \n",
      " 2   SUBURB            18510 non-null  object \n",
      " 3   PRICE             18510 non-null  int64  \n",
      " 4   BEDROOMS          18510 non-null  int64  \n",
      " 5   BATHROOMS         18510 non-null  int64  \n",
      " 6   GARAGE            17143 non-null  float64\n",
      " 7   LAND_AREA         18510 non-null  int64  \n",
      " 8   FLOOR_AREA        18510 non-null  int64  \n",
      " 9   BUILD_YEAR        16782 non-null  float64\n",
      " 10  CBD_DIST          18510 non-null  int64  \n",
      " 11  NEAREST_STN       18510 non-null  object \n",
      " 12  NEAREST_STN_DIST  18510 non-null  int64  \n",
      " 13  DATE_SOLD         18510 non-null  object \n",
      " 14  POSTCODE          18510 non-null  int64  \n",
      " 15  LATITUDE          18510 non-null  float64\n",
      " 16  LONGITUDE         18510 non-null  float64\n",
      " 17  NEAREST_SCH       18510 non-null  object \n",
      " 18  NEAREST_SCH_DIST  18510 non-null  float64\n",
      " 19  NEAREST_SCH_RANK  12510 non-null  float64\n",
      "dtypes: float64(6), int64(9), object(5)\n",
      "memory usage: 2.8+ MB\n"
     ]
    }
   ],
   "source": [
    "df.info()"
   ]
  },
  {
   "cell_type": "code",
   "execution_count": 4,
   "metadata": {},
   "outputs": [],
   "source": [
    "df.GARAGE = df.GARAGE.fillna(0)\n",
    "test_df.GARAGE = test_df.GARAGE.fillna(0)\n",
    "\n",
    "df.BUILD_YEAR = df.BUILD_YEAR.fillna(df.BUILD_YEAR.mean())\n",
    "test_df.BUILD_YEAR = test_df.BUILD_YEAR.fillna(test_df.BUILD_YEAR.mean())"
   ]
  },
  {
   "cell_type": "code",
   "execution_count": 5,
   "metadata": {},
   "outputs": [],
   "source": [
    "school = df.drop([\"ADDRESS\", \"SUBURB\", \"NEAREST_STN\", \"NEAREST_SCH\", \"DATE_SOLD\", \"BUILD_YEAR\"], axis=1)\n",
    "\n",
    "test_school = test_df.drop([\"ADDRESS\", \"SUBURB\", \"NEAREST_STN\", \"NEAREST_SCH\", \"DATE_SOLD\", \"BUILD_YEAR\"], axis=1)"
   ]
  },
  {
   "cell_type": "code",
   "execution_count": 6,
   "metadata": {},
   "outputs": [
    {
     "data": {
      "text/html": [
       "<div>\n",
       "<style scoped>\n",
       "    .dataframe tbody tr th:only-of-type {\n",
       "        vertical-align: middle;\n",
       "    }\n",
       "\n",
       "    .dataframe tbody tr th {\n",
       "        vertical-align: top;\n",
       "    }\n",
       "\n",
       "    .dataframe thead th {\n",
       "        text-align: right;\n",
       "    }\n",
       "</style>\n",
       "<table border=\"1\" class=\"dataframe\">\n",
       "  <thead>\n",
       "    <tr style=\"text-align: right;\">\n",
       "      <th></th>\n",
       "      <th>ID</th>\n",
       "      <th>PRICE</th>\n",
       "      <th>BEDROOMS</th>\n",
       "      <th>BATHROOMS</th>\n",
       "      <th>GARAGE</th>\n",
       "      <th>LAND_AREA</th>\n",
       "      <th>FLOOR_AREA</th>\n",
       "      <th>CBD_DIST</th>\n",
       "      <th>NEAREST_STN_DIST</th>\n",
       "      <th>POSTCODE</th>\n",
       "      <th>LATITUDE</th>\n",
       "      <th>LONGITUDE</th>\n",
       "      <th>NEAREST_SCH_DIST</th>\n",
       "      <th>NEAREST_SCH_RANK</th>\n",
       "    </tr>\n",
       "  </thead>\n",
       "  <tbody>\n",
       "    <tr>\n",
       "      <th>0</th>\n",
       "      <td>0</td>\n",
       "      <td>520000</td>\n",
       "      <td>5</td>\n",
       "      <td>2</td>\n",
       "      <td>4.0</td>\n",
       "      <td>674</td>\n",
       "      <td>266</td>\n",
       "      <td>35500</td>\n",
       "      <td>3000</td>\n",
       "      <td>6030</td>\n",
       "      <td>-31.656206</td>\n",
       "      <td>115.720566</td>\n",
       "      <td>1.079230</td>\n",
       "      <td>120.0</td>\n",
       "    </tr>\n",
       "    <tr>\n",
       "      <th>1</th>\n",
       "      <td>1</td>\n",
       "      <td>575000</td>\n",
       "      <td>5</td>\n",
       "      <td>4</td>\n",
       "      <td>2.0</td>\n",
       "      <td>540</td>\n",
       "      <td>301</td>\n",
       "      <td>16900</td>\n",
       "      <td>8100</td>\n",
       "      <td>6065</td>\n",
       "      <td>-31.800802</td>\n",
       "      <td>115.867675</td>\n",
       "      <td>0.667585</td>\n",
       "      <td>NaN</td>\n",
       "    </tr>\n",
       "    <tr>\n",
       "      <th>2</th>\n",
       "      <td>2</td>\n",
       "      <td>760000</td>\n",
       "      <td>4</td>\n",
       "      <td>2</td>\n",
       "      <td>2.0</td>\n",
       "      <td>781</td>\n",
       "      <td>220</td>\n",
       "      <td>33500</td>\n",
       "      <td>3500</td>\n",
       "      <td>6030</td>\n",
       "      <td>-31.682040</td>\n",
       "      <td>115.702600</td>\n",
       "      <td>0.650761</td>\n",
       "      <td>111.0</td>\n",
       "    </tr>\n",
       "    <tr>\n",
       "      <th>3</th>\n",
       "      <td>3</td>\n",
       "      <td>1230000</td>\n",
       "      <td>2</td>\n",
       "      <td>1</td>\n",
       "      <td>2.0</td>\n",
       "      <td>425</td>\n",
       "      <td>185</td>\n",
       "      <td>3500</td>\n",
       "      <td>1500</td>\n",
       "      <td>6016</td>\n",
       "      <td>-31.926046</td>\n",
       "      <td>115.838181</td>\n",
       "      <td>0.484465</td>\n",
       "      <td>106.0</td>\n",
       "    </tr>\n",
       "    <tr>\n",
       "      <th>4</th>\n",
       "      <td>4</td>\n",
       "      <td>2010000</td>\n",
       "      <td>3</td>\n",
       "      <td>2</td>\n",
       "      <td>2.0</td>\n",
       "      <td>546</td>\n",
       "      <td>186</td>\n",
       "      <td>12900</td>\n",
       "      <td>800</td>\n",
       "      <td>6159</td>\n",
       "      <td>-32.032079</td>\n",
       "      <td>115.759626</td>\n",
       "      <td>1.869050</td>\n",
       "      <td>25.0</td>\n",
       "    </tr>\n",
       "    <tr>\n",
       "      <th>...</th>\n",
       "      <td>...</td>\n",
       "      <td>...</td>\n",
       "      <td>...</td>\n",
       "      <td>...</td>\n",
       "      <td>...</td>\n",
       "      <td>...</td>\n",
       "      <td>...</td>\n",
       "      <td>...</td>\n",
       "      <td>...</td>\n",
       "      <td>...</td>\n",
       "      <td>...</td>\n",
       "      <td>...</td>\n",
       "      <td>...</td>\n",
       "      <td>...</td>\n",
       "    </tr>\n",
       "    <tr>\n",
       "      <th>18505</th>\n",
       "      <td>18505</td>\n",
       "      <td>475000</td>\n",
       "      <td>4</td>\n",
       "      <td>2</td>\n",
       "      <td>2.0</td>\n",
       "      <td>533</td>\n",
       "      <td>198</td>\n",
       "      <td>21200</td>\n",
       "      <td>4400</td>\n",
       "      <td>6065</td>\n",
       "      <td>-31.764187</td>\n",
       "      <td>115.824151</td>\n",
       "      <td>1.104533</td>\n",
       "      <td>131.0</td>\n",
       "    </tr>\n",
       "    <tr>\n",
       "      <th>18506</th>\n",
       "      <td>18506</td>\n",
       "      <td>485000</td>\n",
       "      <td>3</td>\n",
       "      <td>2</td>\n",
       "      <td>2.0</td>\n",
       "      <td>344</td>\n",
       "      <td>237</td>\n",
       "      <td>22100</td>\n",
       "      <td>1900</td>\n",
       "      <td>6111</td>\n",
       "      <td>-32.114990</td>\n",
       "      <td>115.992834</td>\n",
       "      <td>1.816768</td>\n",
       "      <td>40.0</td>\n",
       "    </tr>\n",
       "    <tr>\n",
       "      <th>18507</th>\n",
       "      <td>18507</td>\n",
       "      <td>642000</td>\n",
       "      <td>3</td>\n",
       "      <td>1</td>\n",
       "      <td>1.0</td>\n",
       "      <td>1016</td>\n",
       "      <td>110</td>\n",
       "      <td>8900</td>\n",
       "      <td>3100</td>\n",
       "      <td>6104</td>\n",
       "      <td>-31.931320</td>\n",
       "      <td>115.950060</td>\n",
       "      <td>2.169696</td>\n",
       "      <td>NaN</td>\n",
       "    </tr>\n",
       "    <tr>\n",
       "      <th>18508</th>\n",
       "      <td>18508</td>\n",
       "      <td>491000</td>\n",
       "      <td>4</td>\n",
       "      <td>2</td>\n",
       "      <td>2.0</td>\n",
       "      <td>718</td>\n",
       "      <td>176</td>\n",
       "      <td>14600</td>\n",
       "      <td>5400</td>\n",
       "      <td>6163</td>\n",
       "      <td>-32.070861</td>\n",
       "      <td>115.793834</td>\n",
       "      <td>0.208669</td>\n",
       "      <td>91.0</td>\n",
       "    </tr>\n",
       "    <tr>\n",
       "      <th>18509</th>\n",
       "      <td>18509</td>\n",
       "      <td>490000</td>\n",
       "      <td>4</td>\n",
       "      <td>1</td>\n",
       "      <td>2.0</td>\n",
       "      <td>1030</td>\n",
       "      <td>109</td>\n",
       "      <td>11600</td>\n",
       "      <td>6400</td>\n",
       "      <td>6064</td>\n",
       "      <td>-31.848240</td>\n",
       "      <td>115.864000</td>\n",
       "      <td>0.618862</td>\n",
       "      <td>46.0</td>\n",
       "    </tr>\n",
       "  </tbody>\n",
       "</table>\n",
       "<p>18510 rows × 14 columns</p>\n",
       "</div>"
      ],
      "text/plain": [
       "          ID    PRICE  BEDROOMS  BATHROOMS  GARAGE  LAND_AREA  FLOOR_AREA  \\\n",
       "0          0   520000         5          2     4.0        674         266   \n",
       "1          1   575000         5          4     2.0        540         301   \n",
       "2          2   760000         4          2     2.0        781         220   \n",
       "3          3  1230000         2          1     2.0        425         185   \n",
       "4          4  2010000         3          2     2.0        546         186   \n",
       "...      ...      ...       ...        ...     ...        ...         ...   \n",
       "18505  18505   475000         4          2     2.0        533         198   \n",
       "18506  18506   485000         3          2     2.0        344         237   \n",
       "18507  18507   642000         3          1     1.0       1016         110   \n",
       "18508  18508   491000         4          2     2.0        718         176   \n",
       "18509  18509   490000         4          1     2.0       1030         109   \n",
       "\n",
       "       CBD_DIST  NEAREST_STN_DIST  POSTCODE   LATITUDE   LONGITUDE  \\\n",
       "0         35500              3000      6030 -31.656206  115.720566   \n",
       "1         16900              8100      6065 -31.800802  115.867675   \n",
       "2         33500              3500      6030 -31.682040  115.702600   \n",
       "3          3500              1500      6016 -31.926046  115.838181   \n",
       "4         12900               800      6159 -32.032079  115.759626   \n",
       "...         ...               ...       ...        ...         ...   \n",
       "18505     21200              4400      6065 -31.764187  115.824151   \n",
       "18506     22100              1900      6111 -32.114990  115.992834   \n",
       "18507      8900              3100      6104 -31.931320  115.950060   \n",
       "18508     14600              5400      6163 -32.070861  115.793834   \n",
       "18509     11600              6400      6064 -31.848240  115.864000   \n",
       "\n",
       "       NEAREST_SCH_DIST  NEAREST_SCH_RANK  \n",
       "0              1.079230             120.0  \n",
       "1              0.667585               NaN  \n",
       "2              0.650761             111.0  \n",
       "3              0.484465             106.0  \n",
       "4              1.869050              25.0  \n",
       "...                 ...               ...  \n",
       "18505          1.104533             131.0  \n",
       "18506          1.816768              40.0  \n",
       "18507          2.169696               NaN  \n",
       "18508          0.208669              91.0  \n",
       "18509          0.618862              46.0  \n",
       "\n",
       "[18510 rows x 14 columns]"
      ]
     },
     "execution_count": 6,
     "metadata": {},
     "output_type": "execute_result"
    }
   ],
   "source": [
    "school"
   ]
  },
  {
   "cell_type": "code",
   "execution_count": 7,
   "metadata": {},
   "outputs": [],
   "source": [
    "school_nona = school.dropna(axis=0)\n",
    "\n",
    "test_school_nona = test_school.dropna(axis=0)"
   ]
  },
  {
   "cell_type": "code",
   "execution_count": 8,
   "metadata": {},
   "outputs": [
    {
     "data": {
      "text/html": [
       "<div>\n",
       "<style scoped>\n",
       "    .dataframe tbody tr th:only-of-type {\n",
       "        vertical-align: middle;\n",
       "    }\n",
       "\n",
       "    .dataframe tbody tr th {\n",
       "        vertical-align: top;\n",
       "    }\n",
       "\n",
       "    .dataframe thead th {\n",
       "        text-align: right;\n",
       "    }\n",
       "</style>\n",
       "<table border=\"1\" class=\"dataframe\">\n",
       "  <thead>\n",
       "    <tr style=\"text-align: right;\">\n",
       "      <th></th>\n",
       "      <th>ID</th>\n",
       "      <th>PRICE</th>\n",
       "      <th>BEDROOMS</th>\n",
       "      <th>BATHROOMS</th>\n",
       "      <th>GARAGE</th>\n",
       "      <th>LAND_AREA</th>\n",
       "      <th>FLOOR_AREA</th>\n",
       "      <th>CBD_DIST</th>\n",
       "      <th>NEAREST_STN_DIST</th>\n",
       "      <th>POSTCODE</th>\n",
       "      <th>LATITUDE</th>\n",
       "      <th>LONGITUDE</th>\n",
       "      <th>NEAREST_SCH_DIST</th>\n",
       "      <th>NEAREST_SCH_RANK</th>\n",
       "    </tr>\n",
       "  </thead>\n",
       "  <tbody>\n",
       "    <tr>\n",
       "      <th>0</th>\n",
       "      <td>0</td>\n",
       "      <td>520000</td>\n",
       "      <td>5</td>\n",
       "      <td>2</td>\n",
       "      <td>4.0</td>\n",
       "      <td>674</td>\n",
       "      <td>266</td>\n",
       "      <td>35500</td>\n",
       "      <td>3000</td>\n",
       "      <td>6030</td>\n",
       "      <td>-31.656206</td>\n",
       "      <td>115.720566</td>\n",
       "      <td>1.079230</td>\n",
       "      <td>120.0</td>\n",
       "    </tr>\n",
       "    <tr>\n",
       "      <th>2</th>\n",
       "      <td>2</td>\n",
       "      <td>760000</td>\n",
       "      <td>4</td>\n",
       "      <td>2</td>\n",
       "      <td>2.0</td>\n",
       "      <td>781</td>\n",
       "      <td>220</td>\n",
       "      <td>33500</td>\n",
       "      <td>3500</td>\n",
       "      <td>6030</td>\n",
       "      <td>-31.682040</td>\n",
       "      <td>115.702600</td>\n",
       "      <td>0.650761</td>\n",
       "      <td>111.0</td>\n",
       "    </tr>\n",
       "    <tr>\n",
       "      <th>3</th>\n",
       "      <td>3</td>\n",
       "      <td>1230000</td>\n",
       "      <td>2</td>\n",
       "      <td>1</td>\n",
       "      <td>2.0</td>\n",
       "      <td>425</td>\n",
       "      <td>185</td>\n",
       "      <td>3500</td>\n",
       "      <td>1500</td>\n",
       "      <td>6016</td>\n",
       "      <td>-31.926046</td>\n",
       "      <td>115.838181</td>\n",
       "      <td>0.484465</td>\n",
       "      <td>106.0</td>\n",
       "    </tr>\n",
       "    <tr>\n",
       "      <th>4</th>\n",
       "      <td>4</td>\n",
       "      <td>2010000</td>\n",
       "      <td>3</td>\n",
       "      <td>2</td>\n",
       "      <td>2.0</td>\n",
       "      <td>546</td>\n",
       "      <td>186</td>\n",
       "      <td>12900</td>\n",
       "      <td>800</td>\n",
       "      <td>6159</td>\n",
       "      <td>-32.032079</td>\n",
       "      <td>115.759626</td>\n",
       "      <td>1.869050</td>\n",
       "      <td>25.0</td>\n",
       "    </tr>\n",
       "    <tr>\n",
       "      <th>5</th>\n",
       "      <td>5</td>\n",
       "      <td>980000</td>\n",
       "      <td>3</td>\n",
       "      <td>1</td>\n",
       "      <td>1.0</td>\n",
       "      <td>1012</td>\n",
       "      <td>252</td>\n",
       "      <td>4800</td>\n",
       "      <td>2700</td>\n",
       "      <td>6152</td>\n",
       "      <td>-31.992199</td>\n",
       "      <td>115.876052</td>\n",
       "      <td>0.669617</td>\n",
       "      <td>4.0</td>\n",
       "    </tr>\n",
       "    <tr>\n",
       "      <th>...</th>\n",
       "      <td>...</td>\n",
       "      <td>...</td>\n",
       "      <td>...</td>\n",
       "      <td>...</td>\n",
       "      <td>...</td>\n",
       "      <td>...</td>\n",
       "      <td>...</td>\n",
       "      <td>...</td>\n",
       "      <td>...</td>\n",
       "      <td>...</td>\n",
       "      <td>...</td>\n",
       "      <td>...</td>\n",
       "      <td>...</td>\n",
       "      <td>...</td>\n",
       "    </tr>\n",
       "    <tr>\n",
       "      <th>18503</th>\n",
       "      <td>18503</td>\n",
       "      <td>458000</td>\n",
       "      <td>6</td>\n",
       "      <td>2</td>\n",
       "      <td>1.0</td>\n",
       "      <td>626</td>\n",
       "      <td>136</td>\n",
       "      <td>10800</td>\n",
       "      <td>7300</td>\n",
       "      <td>6061</td>\n",
       "      <td>-31.855972</td>\n",
       "      <td>115.872064</td>\n",
       "      <td>1.499334</td>\n",
       "      <td>35.0</td>\n",
       "    </tr>\n",
       "    <tr>\n",
       "      <th>18505</th>\n",
       "      <td>18505</td>\n",
       "      <td>475000</td>\n",
       "      <td>4</td>\n",
       "      <td>2</td>\n",
       "      <td>2.0</td>\n",
       "      <td>533</td>\n",
       "      <td>198</td>\n",
       "      <td>21200</td>\n",
       "      <td>4400</td>\n",
       "      <td>6065</td>\n",
       "      <td>-31.764187</td>\n",
       "      <td>115.824151</td>\n",
       "      <td>1.104533</td>\n",
       "      <td>131.0</td>\n",
       "    </tr>\n",
       "    <tr>\n",
       "      <th>18506</th>\n",
       "      <td>18506</td>\n",
       "      <td>485000</td>\n",
       "      <td>3</td>\n",
       "      <td>2</td>\n",
       "      <td>2.0</td>\n",
       "      <td>344</td>\n",
       "      <td>237</td>\n",
       "      <td>22100</td>\n",
       "      <td>1900</td>\n",
       "      <td>6111</td>\n",
       "      <td>-32.114990</td>\n",
       "      <td>115.992834</td>\n",
       "      <td>1.816768</td>\n",
       "      <td>40.0</td>\n",
       "    </tr>\n",
       "    <tr>\n",
       "      <th>18508</th>\n",
       "      <td>18508</td>\n",
       "      <td>491000</td>\n",
       "      <td>4</td>\n",
       "      <td>2</td>\n",
       "      <td>2.0</td>\n",
       "      <td>718</td>\n",
       "      <td>176</td>\n",
       "      <td>14600</td>\n",
       "      <td>5400</td>\n",
       "      <td>6163</td>\n",
       "      <td>-32.070861</td>\n",
       "      <td>115.793834</td>\n",
       "      <td>0.208669</td>\n",
       "      <td>91.0</td>\n",
       "    </tr>\n",
       "    <tr>\n",
       "      <th>18509</th>\n",
       "      <td>18509</td>\n",
       "      <td>490000</td>\n",
       "      <td>4</td>\n",
       "      <td>1</td>\n",
       "      <td>2.0</td>\n",
       "      <td>1030</td>\n",
       "      <td>109</td>\n",
       "      <td>11600</td>\n",
       "      <td>6400</td>\n",
       "      <td>6064</td>\n",
       "      <td>-31.848240</td>\n",
       "      <td>115.864000</td>\n",
       "      <td>0.618862</td>\n",
       "      <td>46.0</td>\n",
       "    </tr>\n",
       "  </tbody>\n",
       "</table>\n",
       "<p>12510 rows × 14 columns</p>\n",
       "</div>"
      ],
      "text/plain": [
       "          ID    PRICE  BEDROOMS  BATHROOMS  GARAGE  LAND_AREA  FLOOR_AREA  \\\n",
       "0          0   520000         5          2     4.0        674         266   \n",
       "2          2   760000         4          2     2.0        781         220   \n",
       "3          3  1230000         2          1     2.0        425         185   \n",
       "4          4  2010000         3          2     2.0        546         186   \n",
       "5          5   980000         3          1     1.0       1012         252   \n",
       "...      ...      ...       ...        ...     ...        ...         ...   \n",
       "18503  18503   458000         6          2     1.0        626         136   \n",
       "18505  18505   475000         4          2     2.0        533         198   \n",
       "18506  18506   485000         3          2     2.0        344         237   \n",
       "18508  18508   491000         4          2     2.0        718         176   \n",
       "18509  18509   490000         4          1     2.0       1030         109   \n",
       "\n",
       "       CBD_DIST  NEAREST_STN_DIST  POSTCODE   LATITUDE   LONGITUDE  \\\n",
       "0         35500              3000      6030 -31.656206  115.720566   \n",
       "2         33500              3500      6030 -31.682040  115.702600   \n",
       "3          3500              1500      6016 -31.926046  115.838181   \n",
       "4         12900               800      6159 -32.032079  115.759626   \n",
       "5          4800              2700      6152 -31.992199  115.876052   \n",
       "...         ...               ...       ...        ...         ...   \n",
       "18503     10800              7300      6061 -31.855972  115.872064   \n",
       "18505     21200              4400      6065 -31.764187  115.824151   \n",
       "18506     22100              1900      6111 -32.114990  115.992834   \n",
       "18508     14600              5400      6163 -32.070861  115.793834   \n",
       "18509     11600              6400      6064 -31.848240  115.864000   \n",
       "\n",
       "       NEAREST_SCH_DIST  NEAREST_SCH_RANK  \n",
       "0              1.079230             120.0  \n",
       "2              0.650761             111.0  \n",
       "3              0.484465             106.0  \n",
       "4              1.869050              25.0  \n",
       "5              0.669617               4.0  \n",
       "...                 ...               ...  \n",
       "18503          1.499334              35.0  \n",
       "18505          1.104533             131.0  \n",
       "18506          1.816768              40.0  \n",
       "18508          0.208669              91.0  \n",
       "18509          0.618862              46.0  \n",
       "\n",
       "[12510 rows x 14 columns]"
      ]
     },
     "execution_count": 8,
     "metadata": {},
     "output_type": "execute_result"
    }
   ],
   "source": [
    "school_nona"
   ]
  },
  {
   "cell_type": "code",
   "execution_count": 9,
   "metadata": {},
   "outputs": [],
   "source": [
    "school_predict = school[school.NEAREST_SCH_RANK.isna()]\n",
    "\n",
    "test_school_predict = test_school[test_school.NEAREST_SCH_RANK.isna()]"
   ]
  },
  {
   "cell_type": "code",
   "execution_count": 10,
   "metadata": {},
   "outputs": [
    {
     "data": {
      "text/html": [
       "<div>\n",
       "<style scoped>\n",
       "    .dataframe tbody tr th:only-of-type {\n",
       "        vertical-align: middle;\n",
       "    }\n",
       "\n",
       "    .dataframe tbody tr th {\n",
       "        vertical-align: top;\n",
       "    }\n",
       "\n",
       "    .dataframe thead th {\n",
       "        text-align: right;\n",
       "    }\n",
       "</style>\n",
       "<table border=\"1\" class=\"dataframe\">\n",
       "  <thead>\n",
       "    <tr style=\"text-align: right;\">\n",
       "      <th></th>\n",
       "      <th>ID</th>\n",
       "      <th>PRICE</th>\n",
       "      <th>BEDROOMS</th>\n",
       "      <th>BATHROOMS</th>\n",
       "      <th>GARAGE</th>\n",
       "      <th>LAND_AREA</th>\n",
       "      <th>FLOOR_AREA</th>\n",
       "      <th>CBD_DIST</th>\n",
       "      <th>NEAREST_STN_DIST</th>\n",
       "      <th>POSTCODE</th>\n",
       "      <th>LATITUDE</th>\n",
       "      <th>LONGITUDE</th>\n",
       "      <th>NEAREST_SCH_DIST</th>\n",
       "      <th>NEAREST_SCH_RANK</th>\n",
       "    </tr>\n",
       "  </thead>\n",
       "  <tbody>\n",
       "    <tr>\n",
       "      <th>1</th>\n",
       "      <td>1</td>\n",
       "      <td>575000</td>\n",
       "      <td>5</td>\n",
       "      <td>4</td>\n",
       "      <td>2.0</td>\n",
       "      <td>540</td>\n",
       "      <td>301</td>\n",
       "      <td>16900</td>\n",
       "      <td>8100</td>\n",
       "      <td>6065</td>\n",
       "      <td>-31.800802</td>\n",
       "      <td>115.867675</td>\n",
       "      <td>0.667585</td>\n",
       "      <td>NaN</td>\n",
       "    </tr>\n",
       "    <tr>\n",
       "      <th>6</th>\n",
       "      <td>6</td>\n",
       "      <td>357000</td>\n",
       "      <td>4</td>\n",
       "      <td>1</td>\n",
       "      <td>2.0</td>\n",
       "      <td>738</td>\n",
       "      <td>120</td>\n",
       "      <td>33400</td>\n",
       "      <td>1500</td>\n",
       "      <td>6167</td>\n",
       "      <td>-32.250380</td>\n",
       "      <td>115.820040</td>\n",
       "      <td>0.889794</td>\n",
       "      <td>NaN</td>\n",
       "    </tr>\n",
       "    <tr>\n",
       "      <th>8</th>\n",
       "      <td>8</td>\n",
       "      <td>550000</td>\n",
       "      <td>3</td>\n",
       "      <td>2</td>\n",
       "      <td>0.0</td>\n",
       "      <td>1537</td>\n",
       "      <td>167</td>\n",
       "      <td>27000</td>\n",
       "      <td>13100</td>\n",
       "      <td>6072</td>\n",
       "      <td>-31.904710</td>\n",
       "      <td>116.138770</td>\n",
       "      <td>3.975465</td>\n",
       "      <td>NaN</td>\n",
       "    </tr>\n",
       "    <tr>\n",
       "      <th>12</th>\n",
       "      <td>12</td>\n",
       "      <td>930000</td>\n",
       "      <td>4</td>\n",
       "      <td>2</td>\n",
       "      <td>2.0</td>\n",
       "      <td>20522</td>\n",
       "      <td>221</td>\n",
       "      <td>18800</td>\n",
       "      <td>6200</td>\n",
       "      <td>6056</td>\n",
       "      <td>-31.922810</td>\n",
       "      <td>116.054930</td>\n",
       "      <td>1.848197</td>\n",
       "      <td>NaN</td>\n",
       "    </tr>\n",
       "    <tr>\n",
       "      <th>14</th>\n",
       "      <td>14</td>\n",
       "      <td>685000</td>\n",
       "      <td>5</td>\n",
       "      <td>2</td>\n",
       "      <td>2.0</td>\n",
       "      <td>3198</td>\n",
       "      <td>359</td>\n",
       "      <td>27800</td>\n",
       "      <td>1300</td>\n",
       "      <td>6112</td>\n",
       "      <td>-32.158810</td>\n",
       "      <td>116.025202</td>\n",
       "      <td>1.065348</td>\n",
       "      <td>NaN</td>\n",
       "    </tr>\n",
       "    <tr>\n",
       "      <th>...</th>\n",
       "      <td>...</td>\n",
       "      <td>...</td>\n",
       "      <td>...</td>\n",
       "      <td>...</td>\n",
       "      <td>...</td>\n",
       "      <td>...</td>\n",
       "      <td>...</td>\n",
       "      <td>...</td>\n",
       "      <td>...</td>\n",
       "      <td>...</td>\n",
       "      <td>...</td>\n",
       "      <td>...</td>\n",
       "      <td>...</td>\n",
       "      <td>...</td>\n",
       "    </tr>\n",
       "    <tr>\n",
       "      <th>18493</th>\n",
       "      <td>18493</td>\n",
       "      <td>410500</td>\n",
       "      <td>3</td>\n",
       "      <td>1</td>\n",
       "      <td>2.0</td>\n",
       "      <td>806</td>\n",
       "      <td>125</td>\n",
       "      <td>11300</td>\n",
       "      <td>2600</td>\n",
       "      <td>6148</td>\n",
       "      <td>-32.030550</td>\n",
       "      <td>115.935480</td>\n",
       "      <td>1.601086</td>\n",
       "      <td>NaN</td>\n",
       "    </tr>\n",
       "    <tr>\n",
       "      <th>18499</th>\n",
       "      <td>18499</td>\n",
       "      <td>283000</td>\n",
       "      <td>3</td>\n",
       "      <td>2</td>\n",
       "      <td>2.0</td>\n",
       "      <td>312</td>\n",
       "      <td>117</td>\n",
       "      <td>31900</td>\n",
       "      <td>328</td>\n",
       "      <td>6167</td>\n",
       "      <td>-32.238013</td>\n",
       "      <td>115.841925</td>\n",
       "      <td>1.842282</td>\n",
       "      <td>NaN</td>\n",
       "    </tr>\n",
       "    <tr>\n",
       "      <th>18500</th>\n",
       "      <td>18500</td>\n",
       "      <td>525000</td>\n",
       "      <td>4</td>\n",
       "      <td>2</td>\n",
       "      <td>2.0</td>\n",
       "      <td>530</td>\n",
       "      <td>272</td>\n",
       "      <td>27400</td>\n",
       "      <td>5100</td>\n",
       "      <td>6112</td>\n",
       "      <td>-32.180140</td>\n",
       "      <td>115.968489</td>\n",
       "      <td>3.670128</td>\n",
       "      <td>NaN</td>\n",
       "    </tr>\n",
       "    <tr>\n",
       "      <th>18504</th>\n",
       "      <td>18504</td>\n",
       "      <td>715000</td>\n",
       "      <td>3</td>\n",
       "      <td>1</td>\n",
       "      <td>2.0</td>\n",
       "      <td>1012</td>\n",
       "      <td>148</td>\n",
       "      <td>10100</td>\n",
       "      <td>1500</td>\n",
       "      <td>6054</td>\n",
       "      <td>-31.913370</td>\n",
       "      <td>115.955140</td>\n",
       "      <td>1.197872</td>\n",
       "      <td>NaN</td>\n",
       "    </tr>\n",
       "    <tr>\n",
       "      <th>18507</th>\n",
       "      <td>18507</td>\n",
       "      <td>642000</td>\n",
       "      <td>3</td>\n",
       "      <td>1</td>\n",
       "      <td>1.0</td>\n",
       "      <td>1016</td>\n",
       "      <td>110</td>\n",
       "      <td>8900</td>\n",
       "      <td>3100</td>\n",
       "      <td>6104</td>\n",
       "      <td>-31.931320</td>\n",
       "      <td>115.950060</td>\n",
       "      <td>2.169696</td>\n",
       "      <td>NaN</td>\n",
       "    </tr>\n",
       "  </tbody>\n",
       "</table>\n",
       "<p>6000 rows × 14 columns</p>\n",
       "</div>"
      ],
      "text/plain": [
       "          ID   PRICE  BEDROOMS  BATHROOMS  GARAGE  LAND_AREA  FLOOR_AREA  \\\n",
       "1          1  575000         5          4     2.0        540         301   \n",
       "6          6  357000         4          1     2.0        738         120   \n",
       "8          8  550000         3          2     0.0       1537         167   \n",
       "12        12  930000         4          2     2.0      20522         221   \n",
       "14        14  685000         5          2     2.0       3198         359   \n",
       "...      ...     ...       ...        ...     ...        ...         ...   \n",
       "18493  18493  410500         3          1     2.0        806         125   \n",
       "18499  18499  283000         3          2     2.0        312         117   \n",
       "18500  18500  525000         4          2     2.0        530         272   \n",
       "18504  18504  715000         3          1     2.0       1012         148   \n",
       "18507  18507  642000         3          1     1.0       1016         110   \n",
       "\n",
       "       CBD_DIST  NEAREST_STN_DIST  POSTCODE   LATITUDE   LONGITUDE  \\\n",
       "1         16900              8100      6065 -31.800802  115.867675   \n",
       "6         33400              1500      6167 -32.250380  115.820040   \n",
       "8         27000             13100      6072 -31.904710  116.138770   \n",
       "12        18800              6200      6056 -31.922810  116.054930   \n",
       "14        27800              1300      6112 -32.158810  116.025202   \n",
       "...         ...               ...       ...        ...         ...   \n",
       "18493     11300              2600      6148 -32.030550  115.935480   \n",
       "18499     31900               328      6167 -32.238013  115.841925   \n",
       "18500     27400              5100      6112 -32.180140  115.968489   \n",
       "18504     10100              1500      6054 -31.913370  115.955140   \n",
       "18507      8900              3100      6104 -31.931320  115.950060   \n",
       "\n",
       "       NEAREST_SCH_DIST  NEAREST_SCH_RANK  \n",
       "1              0.667585               NaN  \n",
       "6              0.889794               NaN  \n",
       "8              3.975465               NaN  \n",
       "12             1.848197               NaN  \n",
       "14             1.065348               NaN  \n",
       "...                 ...               ...  \n",
       "18493          1.601086               NaN  \n",
       "18499          1.842282               NaN  \n",
       "18500          3.670128               NaN  \n",
       "18504          1.197872               NaN  \n",
       "18507          2.169696               NaN  \n",
       "\n",
       "[6000 rows x 14 columns]"
      ]
     },
     "execution_count": 10,
     "metadata": {},
     "output_type": "execute_result"
    }
   ],
   "source": [
    "school_predict"
   ]
  },
  {
   "cell_type": "code",
   "execution_count": 60,
   "metadata": {},
   "outputs": [
    {
     "data": {
      "text/plain": [
       "<AxesSubplot:>"
      ]
     },
     "execution_count": 60,
     "metadata": {},
     "output_type": "execute_result"
    },
    {
     "data": {
      "image/png": "[encoded data removed]",
      "text/plain": [
       "<Figure size 640x480 with 2 Axes>"
      ]
     },
     "metadata": {},
     "output_type": "display_data"
    }
   ],
   "source": [
    "corr = school_nona.corr()\n",
    "sns.heatmap(corr)"
   ]
  },
  {
   "cell_type": "markdown",
   "metadata": {},
   "source": [
    "# train 학교 랭킹 예측"
   ]
  },
  {
   "cell_type": "code",
   "execution_count": 11,
   "metadata": {},
   "outputs": [
    {
     "data": {
      "text/plain": [
       "0.9572584146682297"
      ]
     },
     "execution_count": 11,
     "metadata": {},
     "output_type": "execute_result"
    }
   ],
   "source": [
    "X = school_nona.drop(\"NEAREST_SCH_RANK\", axis=1)\n",
    "y = school_nona.NEAREST_SCH_RANK\n",
    "\n",
    "from sklearn.model_selection import train_test_split\n",
    "\n",
    "X_train, X_test, y_train, y_test = train_test_split(X, y)\n",
    "\n",
    "from sklearn.ensemble import RandomForestRegressor\n",
    "from sklearn.model_selection import cross_val_score\n",
    "\n",
    "RFR = RandomForestRegressor()\n",
    "RFR.fit(X_train, y_train)\n",
    "RFR.score(X_test,y_test)"
   ]
  },
  {
   "cell_type": "code",
   "execution_count": 12,
   "metadata": {},
   "outputs": [
    {
     "data": {
      "text/plain": [
       "array([0.96235424, 0.9602879 , 0.96307447, 0.96433154, 0.95648036])"
      ]
     },
     "execution_count": 12,
     "metadata": {},
     "output_type": "execute_result"
    }
   ],
   "source": [
    "cross_val_score(RFR, X,y,cv=5)"
   ]
  },
  {
   "cell_type": "code",
   "execution_count": 13,
   "metadata": {},
   "outputs": [
    {
     "data": {
      "text/plain": [
       "0.9616596590193864"
      ]
     },
     "execution_count": 13,
     "metadata": {},
     "output_type": "execute_result"
    }
   ],
   "source": [
    "cross_val_score(RFR, X,y,cv=5).mean()"
   ]
  },
  {
   "cell_type": "code",
   "execution_count": 63,
   "metadata": {},
   "outputs": [
    {
     "name": "stderr",
     "output_type": "stream",
     "text": [
      "c:\\Users\\han12\\OneDrive\\Desktop\\AIschool\\Python\\AI_Source\\venv\\lib\\site-packages\\ipykernel_launcher.py:5: SettingWithCopyWarning: \n",
      "A value is trying to be set on a copy of a slice from a DataFrame.\n",
      "Try using .loc[row_indexer,col_indexer] = value instead\n",
      "\n",
      "See the caveats in the documentation: https://pandas.pydata.org/pandas-docs/stable/user_guide/indexing.html#returning-a-view-versus-a-copy\n",
      "  \"\"\"\n"
     ]
    }
   ],
   "source": [
    "X_pred = school_predict.drop(\"NEAREST_SCH_RANK\", axis=1)\n",
    "\n",
    "school_predict.drop(\"NEAREST_SCH_RANK\", axis=1)\n",
    "\n",
    "school_predict[\"NEAREST_SCH_RANK\"] = RFR.predict(X_pred)"
   ]
  },
  {
   "cell_type": "code",
   "execution_count": 64,
   "metadata": {},
   "outputs": [
    {
     "data": {
      "text/plain": [
       "1         72.63\n",
       "6        137.59\n",
       "8         77.95\n",
       "12        83.74\n",
       "14        99.41\n",
       "          ...  \n",
       "18493     87.58\n",
       "18499    132.16\n",
       "18500    112.63\n",
       "18504     75.33\n",
       "18507     56.40\n",
       "Name: NEAREST_SCH_RANK, Length: 6000, dtype: float64"
      ]
     },
     "execution_count": 64,
     "metadata": {},
     "output_type": "execute_result"
    }
   ],
   "source": [
    "school_predict[\"NEAREST_SCH_RANK\"]"
   ]
  },
  {
   "cell_type": "markdown",
   "metadata": {},
   "source": [
    "# test 학교 랭킹 예측"
   ]
  },
  {
   "cell_type": "code",
   "execution_count": 65,
   "metadata": {},
   "outputs": [
    {
     "data": {
      "text/plain": [
       "0.9641072846178794"
      ]
     },
     "execution_count": 65,
     "metadata": {},
     "output_type": "execute_result"
    }
   ],
   "source": [
    "X = test_school_nona.drop(\"NEAREST_SCH_RANK\", axis=1)\n",
    "y = test_school_nona.NEAREST_SCH_RANK\n",
    "\n",
    "from sklearn.model_selection import train_test_split\n",
    "\n",
    "X_train, X_test, y_train, y_test = train_test_split(X, y, random_state=1)\n",
    "\n",
    "from sklearn.ensemble import RandomForestRegressor\n",
    "from sklearn.model_selection import cross_val_score\n",
    "\n",
    "test_RFR = RandomForestRegressor(random_state=42)\n",
    "test_RFR.fit(X_train, y_train)\n",
    "test_RFR.score(X_test,y_test)\n",
    "\n",
    "# random_state=42 : 0.9478678629261529\n",
    "# random_state=1 : 0.9641072846178794"
   ]
  },
  {
   "cell_type": "code",
   "execution_count": 66,
   "metadata": {},
   "outputs": [
    {
     "data": {
      "text/plain": [
       "array([0.95915402, 0.95217549, 0.95475413, 0.95562902, 0.96021686])"
      ]
     },
     "execution_count": 66,
     "metadata": {},
     "output_type": "execute_result"
    }
   ],
   "source": [
    "cross_val_score(test_RFR, X,y,cv=5)"
   ]
  },
  {
   "cell_type": "code",
   "execution_count": 67,
   "metadata": {},
   "outputs": [
    {
     "name": "stderr",
     "output_type": "stream",
     "text": [
      "c:\\Users\\han12\\OneDrive\\Desktop\\AIschool\\Python\\AI_Source\\venv\\lib\\site-packages\\ipykernel_launcher.py:5: SettingWithCopyWarning: \n",
      "A value is trying to be set on a copy of a slice from a DataFrame.\n",
      "Try using .loc[row_indexer,col_indexer] = value instead\n",
      "\n",
      "See the caveats in the documentation: https://pandas.pydata.org/pandas-docs/stable/user_guide/indexing.html#returning-a-view-versus-a-copy\n",
      "  \"\"\"\n"
     ]
    }
   ],
   "source": [
    "X_pred = test_school_predict.drop(\"NEAREST_SCH_RANK\", axis=1)\n",
    "\n",
    "test_school_predict.drop(\"NEAREST_SCH_RANK\", axis=1)\n",
    "\n",
    "test_school_predict[\"NEAREST_SCH_RANK\"] = test_RFR.predict(X_pred)"
   ]
  },
  {
   "cell_type": "code",
   "execution_count": 68,
   "metadata": {},
   "outputs": [
    {
     "data": {
      "text/plain": [
       "0         81.53\n",
       "4         55.37\n",
       "5        103.35\n",
       "9        133.94\n",
       "20        94.54\n",
       "          ...  \n",
       "15132     78.25\n",
       "15135    128.96\n",
       "15141    108.48\n",
       "15142     85.00\n",
       "15145    106.27\n",
       "Name: NEAREST_SCH_RANK, Length: 4952, dtype: float64"
      ]
     },
     "execution_count": 68,
     "metadata": {},
     "output_type": "execute_result"
    }
   ],
   "source": [
    "test_school_predict[\"NEAREST_SCH_RANK\"]"
   ]
  },
  {
   "cell_type": "code",
   "execution_count": 69,
   "metadata": {},
   "outputs": [],
   "source": [
    "df.NEAREST_SCH_RANK.fillna(school_predict[\"NEAREST_SCH_RANK\"], inplace=True)\n",
    "\n",
    "test_df.NEAREST_SCH_RANK.fillna(test_school_predict[\"NEAREST_SCH_RANK\"], inplace=True)"
   ]
  },
  {
   "cell_type": "code",
   "execution_count": 70,
   "metadata": {},
   "outputs": [
    {
     "data": {
      "text/plain": [
       "ID                  0\n",
       "ADDRESS             0\n",
       "SUBURB              0\n",
       "PRICE               0\n",
       "BEDROOMS            0\n",
       "BATHROOMS           0\n",
       "GARAGE              0\n",
       "LAND_AREA           0\n",
       "FLOOR_AREA          0\n",
       "BUILD_YEAR          0\n",
       "CBD_DIST            0\n",
       "NEAREST_STN         0\n",
       "NEAREST_STN_DIST    0\n",
       "DATE_SOLD           0\n",
       "POSTCODE            0\n",
       "LATITUDE            0\n",
       "LONGITUDE           0\n",
       "NEAREST_SCH         0\n",
       "NEAREST_SCH_DIST    0\n",
       "NEAREST_SCH_RANK    0\n",
       "dtype: int64"
      ]
     },
     "execution_count": 70,
     "metadata": {},
     "output_type": "execute_result"
    }
   ],
   "source": [
    "df.isna().sum()"
   ]
  },
  {
   "cell_type": "code",
   "execution_count": 71,
   "metadata": {},
   "outputs": [
    {
     "data": {
      "text/plain": [
       "ID                  0\n",
       "ADDRESS             0\n",
       "SUBURB              0\n",
       "BEDROOMS            0\n",
       "BATHROOMS           0\n",
       "GARAGE              0\n",
       "LAND_AREA           0\n",
       "FLOOR_AREA          0\n",
       "BUILD_YEAR          0\n",
       "CBD_DIST            0\n",
       "NEAREST_STN         0\n",
       "NEAREST_STN_DIST    0\n",
       "DATE_SOLD           0\n",
       "POSTCODE            0\n",
       "LATITUDE            0\n",
       "LONGITUDE           0\n",
       "NEAREST_SCH         0\n",
       "NEAREST_SCH_DIST    0\n",
       "NEAREST_SCH_RANK    0\n",
       "dtype: int64"
      ]
     },
     "execution_count": 71,
     "metadata": {},
     "output_type": "execute_result"
    }
   ],
   "source": [
    "test_df.isna().sum()"
   ]
  },
  {
   "cell_type": "code",
   "execution_count": 72,
   "metadata": {},
   "outputs": [],
   "source": [
    "date_sold = pd.to_datetime(df.DATE_SOLD)\n",
    "df[\"MONTH_SOLD\"] = date_sold.apply(lambda x: x.month)\n",
    "df[\"YEAR_SOLD\"] = date_sold.apply(lambda x: x.year)\n",
    "\n",
    "test_date_sold = pd.to_datetime(test_df.DATE_SOLD)\n",
    "test_df[\"MONTH_SOLD\"] = test_date_sold.apply(lambda x: x.month)\n",
    "test_df[\"YEAR_SOLD\"] = test_date_sold.apply(lambda x: x.year)"
   ]
  },
  {
   "cell_type": "code",
   "execution_count": 73,
   "metadata": {},
   "outputs": [],
   "source": [
    "data = df.drop([\"ADDRESS\", \"SUBURB\", \"NEAREST_SCH\", \"NEAREST_STN\", \"DATE_SOLD\"], axis=1)\n",
    "\n",
    "test_data = test_df.drop([\"ADDRESS\", \"SUBURB\", \"NEAREST_SCH\", \"NEAREST_STN\", \"DATE_SOLD\"], axis=1)"
   ]
  },
  {
   "cell_type": "code",
   "execution_count": 74,
   "metadata": {},
   "outputs": [],
   "source": [
    "X = data.drop('PRICE', axis=1)\n",
    "y = data.PRICE\n",
    "\n",
    "X_train, X_test, y_train, y_test = train_test_split(\n",
    "  X,\n",
    "  y, \n",
    "  test_size=0.2,\n",
    "  random_state=2\n",
    ")"
   ]
  },
  {
   "cell_type": "code",
   "execution_count": 75,
   "metadata": {},
   "outputs": [
    {
     "data": {
      "text/plain": [
       "0.8335733455617768"
      ]
     },
     "execution_count": 75,
     "metadata": {},
     "output_type": "execute_result"
    }
   ],
   "source": [
    "RFR = RandomForestRegressor(random_state=42)\n",
    "\n",
    "RFR.fit(X_train, y_train)\n",
    "\n",
    "RFR.score(X_test, y_test)"
   ]
  },
  {
   "cell_type": "code",
   "execution_count": 76,
   "metadata": {},
   "outputs": [
    {
     "data": {
      "text/plain": [
       "array([0.80566275, 0.81260294, 0.8400404 , 0.82968098, 0.81684786])"
      ]
     },
     "execution_count": 76,
     "metadata": {},
     "output_type": "execute_result"
    }
   ],
   "source": [
    "cross_val_score(RFR, X, y, cv=5)"
   ]
  },
  {
   "cell_type": "code",
   "execution_count": 77,
   "metadata": {},
   "outputs": [],
   "source": [
    "y_pred = RFR.predict(X_test)"
   ]
  },
  {
   "cell_type": "code",
   "execution_count": 78,
   "metadata": {},
   "outputs": [
    {
     "name": "stdout",
     "output_type": "stream",
     "text": [
      "Mean Absolute Error: 91082.08\n",
      "Mean Squared Error: 22651657325.84\n",
      "R-squared scores: 0.83\n"
     ]
    }
   ],
   "source": [
    "from sklearn.metrics import mean_squared_error, r2_score, mean_absolute_error\n",
    "\n",
    "mae = mean_absolute_error(y_test, y_pred)\n",
    "mse = mean_squared_error(y_test, y_pred)\n",
    "r2 = r2_score(y_test, y_pred)\n",
    "\n",
    "print('Mean Absolute Error:', round(mae, 2))\n",
    "print('Mean Squared Error:', round(mse, 2))\n",
    "print('R-squared scores:', round(r2, 2))"
   ]
  },
  {
   "cell_type": "code",
   "execution_count": 79,
   "metadata": {},
   "outputs": [],
   "source": [
    "sub_pred = RFR.predict(test_data)"
   ]
  },
  {
   "cell_type": "code",
   "execution_count": 80,
   "metadata": {},
   "outputs": [],
   "source": [
    "# submit_df = pd.read_csv('./sample_submission.csv')\n",
    "\n",
    "# submit_df['PRICE'] = sub_pred\n",
    "\n",
    "# submit_df.to_csv('model12_REG_test3_84.csv', index=False)"
   ]
  }
 ],
 "metadata": {
  "kernelspec": {
   "display_name": "Python 3 (ipykernel)",
   "language": "python",
   "name": "python3"
  },
  "language_info": {
   "codemirror_mode": {
    "name": "ipython",
    "version": 3
   },
   "file_extension": ".py",
   "mimetype": "text/x-python",
   "name": "python",
   "nbconvert_exporter": "python",
   "pygments_lexer": "ipython3",
   "version": "3.7.9"
  },
  "vscode": {
   "interpreter": {
    "hash": "f1d7460674a73418ab454bd6edfaf2f1a894e6aad421ddec5a5a37cc572abb49"
   }
  }
 },
 "nbformat": 4,
 "nbformat_minor": 2
}
