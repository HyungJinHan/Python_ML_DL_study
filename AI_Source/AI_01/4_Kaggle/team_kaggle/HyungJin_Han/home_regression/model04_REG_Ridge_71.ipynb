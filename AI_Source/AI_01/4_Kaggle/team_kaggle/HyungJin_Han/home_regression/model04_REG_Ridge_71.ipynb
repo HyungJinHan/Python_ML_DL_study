{
 "cells": [
  {
   "cell_type": "markdown",
   "metadata": {},
   "source": [
    "# Acknowledgements\n",
    "\n",
    "이 데이터는 인터넷 사이트를 통해 직접 수집된 데이터입니다.<br>\n",
    "ML을 이용해 집 가격을 예측하는 모델을 완성해보세요.<br><br>\n",
    "\n",
    "## 주택 가격 예측 모델 (회귀 모델)<br><br>\n",
    "\n",
    "# File descriptions\n",
    "\n",
    "- `train.csv` - 트레이닝 셋<br><br>\n",
    "- `test.csv` - 테스트 셋<br><br>\n",
    "- `sampleSubmission.csv` - 케글 점수 체크용 정답 데이터 셋<br><br>\n",
    "\n",
    "# Data fields\n",
    "\n",
    "- `ID` - 각 집의 고유한 번호<br><br>\n",
    "- `ADDRESS` - 집의 주소<br><br>\n",
    "- `SUBURB` - 동네 이름<br><br>\n",
    "- `PRICE` - 가격<br><br>\n",
    "- `BEDROOMS` - 침실의 갯수<br><br>\n",
    "- `BATHROOMS` - 욕실의 갯수<br><br>\n",
    "- `GARAGE` - 차고의 수<br><br>\n",
    "- `LAND_AREA` - 토지 면적<br><br>\n",
    "- `FLOOR_AREA` - 건물 면적<br><br>\n",
    "- `BUILD_YEAR` - 건축년도<br><br>\n",
    "- `CBD_DIST` - Central business district까지의 거리<br><br>\n",
    "- `NEAREST_STN` - 근처 역 정보<br><br>\n",
    "- `NEAREST_STN_DIST` - 근처 역까지 거리<br><br>\n",
    "- `DATE_SOLD` - 판매된 날짜<br><br>\n",
    "- `POSTCODE` - 우편번호<br><br>\n",
    "- `LATITUDE` - 위도<br><br>\n",
    "- `LONGITUDE` - 경도<br><br>\n",
    "- `NEAREST_SCH` - 근교의 학교<br><br>\n",
    "- `NEAREST_SCH_DIST` - 근교의 학교까지의 거리<br><br>\n",
    "- `NEAREST_SCH_RANK` - 근교의 학교까지의 랭킹<br><br>\n"
   ]
  },
  {
   "cell_type": "code",
   "execution_count": null,
   "metadata": {},
   "outputs": [],
   "source": [
    "import pandas as pd\n",
    "import numpy as np"
   ]
  },
  {
   "cell_type": "code",
   "execution_count": null,
   "metadata": {},
   "outputs": [],
   "source": [
    "home_df = pd.read_csv('./train.csv')\n",
    "home_test_df = pd.read_csv('./test.csv')\n",
    "# 타겟 데이터"
   ]
  },
  {
   "cell_type": "code",
   "execution_count": null,
   "metadata": {},
   "outputs": [],
   "source": [
    "target_df = home_df['PRICE']\n",
    "target_df"
   ]
  },
  {
   "cell_type": "code",
   "execution_count": null,
   "metadata": {},
   "outputs": [],
   "source": [
    "x_df = home_df.drop(['PRICE'], axis=1)\n",
    "x_df"
   ]
  },
  {
   "cell_type": "code",
   "execution_count": null,
   "metadata": {},
   "outputs": [],
   "source": [
    "x_df['GARAGE'].fillna(x_df['GARAGE'].value_counts().idxmax(), inplace=True)\n",
    "\n",
    "home_test_df['GARAGE'].fillna(home_df['GARAGE'].value_counts().idxmax(), inplace=True)\n",
    "home_test_df"
   ]
  },
  {
   "cell_type": "code",
   "execution_count": null,
   "metadata": {},
   "outputs": [],
   "source": [
    "x_df"
   ]
  },
  {
   "cell_type": "code",
   "execution_count": null,
   "metadata": {},
   "outputs": [],
   "source": [
    "x_df['NEAREST_SCH_RANK'].fillna(x_df['NEAREST_SCH_RANK'].mean(), inplace=True)\n",
    "\n",
    "home_test_df['NEAREST_SCH_RANK'].fillna(home_df['NEAREST_SCH_RANK'].mean(), inplace=True)\n",
    "home_test_df"
   ]
  },
  {
   "cell_type": "code",
   "execution_count": null,
   "metadata": {},
   "outputs": [],
   "source": [
    "x_df"
   ]
  },
  {
   "cell_type": "code",
   "execution_count": null,
   "metadata": {},
   "outputs": [],
   "source": [
    "x_df['BUILD_YEAR'].fillna(x_df['BUILD_YEAR'].value_counts().idxmax(), inplace=True)\n",
    "\n",
    "home_test_df['BUILD_YEAR'].fillna(home_df['BUILD_YEAR'].value_counts().idxmax(), inplace=True)\n",
    "home_test_df"
   ]
  },
  {
   "cell_type": "code",
   "execution_count": null,
   "metadata": {},
   "outputs": [],
   "source": [
    "x_df"
   ]
  },
  {
   "cell_type": "code",
   "execution_count": null,
   "metadata": {},
   "outputs": [],
   "source": [
    "x_df.isnull().sum()"
   ]
  },
  {
   "cell_type": "code",
   "execution_count": null,
   "metadata": {},
   "outputs": [],
   "source": [
    "del_home_df = x_df.drop(['ADDRESS', 'ID', 'DATE_SOLD', 'SUBURB'], axis=1)\n",
    "\n",
    "del_home_test_df = home_test_df.drop(['ADDRESS', 'ID', 'DATE_SOLD', 'SUBURB'], axis=1)\n",
    "del_home_test_df"
   ]
  },
  {
   "cell_type": "code",
   "execution_count": null,
   "metadata": {},
   "outputs": [],
   "source": [
    "del_home_df"
   ]
  },
  {
   "cell_type": "code",
   "execution_count": null,
   "metadata": {},
   "outputs": [],
   "source": [
    "data_dummies1 = pd.get_dummies(del_home_df['NEAREST_STN'])\n",
    "\n",
    "data_test_dummies1 = pd.get_dummies(del_home_test_df['NEAREST_STN'])\n",
    "data_test_dummies1"
   ]
  },
  {
   "cell_type": "code",
   "execution_count": null,
   "metadata": {},
   "outputs": [],
   "source": [
    "data_dummies1"
   ]
  },
  {
   "cell_type": "code",
   "execution_count": null,
   "metadata": {},
   "outputs": [],
   "source": [
    "data_dummies3 = pd.get_dummies(del_home_df['NEAREST_SCH'])\n",
    "data_dummies3\n",
    "\n",
    "data_test_dummies3 = pd.get_dummies(del_home_test_df['NEAREST_SCH'])\n",
    "data_test_dummies3"
   ]
  },
  {
   "cell_type": "code",
   "execution_count": null,
   "metadata": {},
   "outputs": [],
   "source": [
    "del_train_df = del_home_df.drop(['NEAREST_SCH', 'NEAREST_STN'], axis=1)\n",
    "del_train_df\n",
    "\n",
    "del_train_test_df = del_home_test_df.drop(['NEAREST_SCH', 'NEAREST_STN'], axis=1)\n",
    "del_train_test_df"
   ]
  },
  {
   "cell_type": "code",
   "execution_count": null,
   "metadata": {},
   "outputs": [],
   "source": [
    "del_train_df"
   ]
  },
  {
   "cell_type": "code",
   "execution_count": null,
   "metadata": {},
   "outputs": [],
   "source": [
    "del_train_test_df"
   ]
  },
  {
   "cell_type": "code",
   "execution_count": null,
   "metadata": {},
   "outputs": [],
   "source": [
    "train_df_fin = pd.concat(\n",
    "  [del_train_df, data_dummies1, data_dummies3],\n",
    "  axis=1\n",
    ")\n",
    "train_df_fin\n",
    "\n",
    "train_test_df_fin = pd.concat(\n",
    "  [del_train_test_df, data_test_dummies1, data_test_dummies3],\n",
    "  axis=1\n",
    ")\n",
    "train_test_df_fin"
   ]
  },
  {
   "cell_type": "code",
   "execution_count": null,
   "metadata": {},
   "outputs": [],
   "source": [
    "train_df_fin"
   ]
  },
  {
   "cell_type": "code",
   "execution_count": null,
   "metadata": {},
   "outputs": [],
   "source": [
    "train_test_df_fin"
   ]
  },
  {
   "cell_type": "code",
   "execution_count": null,
   "metadata": {},
   "outputs": [],
   "source": [
    "from sklearn.model_selection import train_test_split\n",
    "\n",
    "X_train, X_test, y_train, y_test = train_test_split(train_df_fin, target_df, random_state=42)"
   ]
  },
  {
   "cell_type": "code",
   "execution_count": null,
   "metadata": {},
   "outputs": [],
   "source": [
    "# Ridge Regression 모델\n",
    "from sklearn.linear_model import Ridge\n",
    "\n",
    "model = Ridge(alpha=1.0) # 하이퍼 파라미터\n",
    "model.fit(X_train, y_train)\n",
    "\n",
    "score = model.score(X_test, y_test)\n",
    "\n",
    "score\n",
    "\n",
    "# LinearRegression - 0.7353807785915197 (random_state=10)"
   ]
  },
  {
   "cell_type": "code",
   "execution_count": null,
   "metadata": {},
   "outputs": [],
   "source": [
    "score_fin = model.predict(train_test_df_fin)\n",
    "\n",
    "score_fin"
   ]
  },
  {
   "cell_type": "code",
   "execution_count": null,
   "metadata": {},
   "outputs": [],
   "source": [
    "home_submit_df = pd.read_csv('./sample_submission.csv')\n",
    "\n",
    "home_submit_df['PRICE'] = score_fin\n",
    "\n",
    "home_submit_df.to_csv('model04_REG_Ridge_71.csv', index=False)"
   ]
  }
 ],
 "metadata": {
  "kernelspec": {
   "display_name": "Python 3.7.9 ('venv': venv)",
   "language": "python",
   "name": "python3"
  },
  "language_info": {
   "codemirror_mode": {
    "name": "ipython",
    "version": 3
   },
   "file_extension": ".py",
   "mimetype": "text/x-python",
   "name": "python",
   "nbconvert_exporter": "python",
   "pygments_lexer": "ipython3",
   "version": "3.7.9"
  },
  "orig_nbformat": 4,
  "vscode": {
   "interpreter": {
    "hash": "f1d7460674a73418ab454bd6edfaf2f1a894e6aad421ddec5a5a37cc572abb49"
   }
  }
 },
 "nbformat": 4,
 "nbformat_minor": 2
}
