{
 "cells": [
  {
   "cell_type": "markdown",
   "id": "cfcb4f1f",
   "metadata": {},
   "source": [
    "# Acknowledgements\n",
    "이 데이터는 인터넷 사이트를 통해 직접 수집된 데이터입니다.\n",
    "ML을 이용해 집 가격을 예측하는 모델을 완성해보세요.\n",
    "\n",
    "# File descriptions\n",
    "- `train.csv` - 트레이닝 셋<br><br>\n",
    "- `test.csv` - 테스트 셋<br><br>\n",
    "- `sampleSubmission.csv` - 케글 점수 체크용 정답 데이터 셋<br><br>\n",
    "\n",
    "# Data fields\n",
    "- `ID` - 각 집의 고유한 번호<br><br>\n",
    "- `ADDRESS` - 집의 주소<br><br>\n",
    "- `SUBURB` - 동네 이름<br><br>\n",
    "- `PRICE` - 가격<br><br>\n",
    "- `BEDROOMS` - 침실의 갯수<br><br>\n",
    "- `BATHROOMS` - 욕실의 갯수<br><br>\n",
    "- `GARAGE` - 차고의 수<br><br>\n",
    "- `LAND_AREA` - 토지 면적<br><br>\n",
    "- `FLOOR_AREA` - 건물 면적<br><br>\n",
    "- `BUILD_YEAR` - 건축년도<br><br>\n",
    "- `CBD_DIST` - Central business district까지의 거리<br><br>\n",
    "- `NEAREST_STN` - 근처 역 정보<br><br>\n",
    "- `NEAREST_STN_DIS`T - 근처 역까지 거리<br><br>\n",
    "- `DATE_SOLD` - 판매된 날짜<br><br>\n",
    "- `POSTCODE` - 우편번호<br><br>\n",
    "- `LATITUDE` - 위도<br><br>\n",
    "- `LONGITUDE` - 경도<br><br>\n",
    "- `NEAREST_SCH` - 근교의 학교<br><br>\n",
    "- `NEAREST_SCH_DIST` - 근교의 학교까지의 거리<br><br>\n",
    "- `NEAREST_SCH_RANK` - 근교의 학교까지의 랭킹<br><br>"
   ]
  },
  {
   "cell_type": "code",
   "execution_count": null,
   "id": "193a8f5b",
   "metadata": {},
   "outputs": [],
   "source": []
  }
 ],
 "metadata": {
  "kernelspec": {
   "display_name": "Python 3 (ipykernel)",
   "language": "python",
   "name": "python3"
  },
  "language_info": {
   "codemirror_mode": {
    "name": "ipython",
    "version": 3
   },
   "file_extension": ".py",
   "mimetype": "text/x-python",
   "name": "python",
   "nbconvert_exporter": "python",
   "pygments_lexer": "ipython3",
   "version": "3.7.9"
  }
 },
 "nbformat": 4,
 "nbformat_minor": 5
}
