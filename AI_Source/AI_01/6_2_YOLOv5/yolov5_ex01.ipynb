{
 "cells": [
  {
   "cell_type": "markdown",
   "metadata": {},
   "source": [
    "# `YOLOv5` 사용하기\n",
    "\n",
    "---\n",
    "\n",
    "### 기본 문법\n",
    "```py\n",
    "# 학습\n",
    "python train.py -data 'data.yaml' -epochs 30 -batch 16\n",
    "\n",
    "# 검증\n",
    "python val.py --data 'data.yaml' --weights 'runs/train/exp/weights/best.pt'\n",
    "\n",
    "# 예측\n",
    "python detect.py --weights 'runs/train/exp/weights/best.pt' --source 'test/images/'\n",
    "```\n",
    "---\n",
    "\n",
    "### `PyTorch` 설치\n",
    "[`PyTorch` 설치](https://pytorch.org/get-started/locally/)\n",
    "\n",
    "`python -m pip install torch torchvision torchaudio` 입력\n",
    "\n",
    "`yolov5-master` 경로로 이동\n",
    "\n",
    "---\n",
    "\n",
    "### `YOLOv5`와 관련된라이브러리 추가 설치\n",
    "`python -m pip install -r requirements.txt`\n",
    "\n",
    "---\n",
    "\n",
    "### 실습 데이터 다운로드\n",
    "원하는 폴더를 탐색기로 열고 경로 창에 cmd 입력\n",
    "\n",
    "원하는 데이터 다운받으면 됨\n",
    "\n",
    "`curl -L \"https://public.roboflow.com/ds/eL4QUdkpSR?key=0ikL5WLM1w\" > roboflow.zip; unzip roboflow.zip; rm roboflow.zip`\n",
    "\n",
    "위의 코드 입력으로 해당 폴더에 다운로드\n",
    "\n"
   ]
  },
  {
   "cell_type": "code",
   "execution_count": null,
   "metadata": {},
   "outputs": [],
   "source": []
  }
 ],
 "metadata": {
  "kernelspec": {
   "display_name": "Python 3.7.9 ('venv': venv)",
   "language": "python",
   "name": "python3"
  },
  "language_info": {
   "name": "python",
   "version": "3.7.9"
  },
  "orig_nbformat": 4,
  "vscode": {
   "interpreter": {
    "hash": "b8f6e83a2b4685053cca019c0ff2ca7ba104fd657ce9f0d7fc04e88337f008c7"
   }
  }
 },
 "nbformat": 4,
 "nbformat_minor": 2
}
